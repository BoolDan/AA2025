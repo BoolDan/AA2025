{
 "cells": [
  {
   "cell_type": "markdown",
   "metadata": {},
   "source": [
    "Enunciado del problema:\n",
    "Implementa en Python una función con la siguiente cabecera\n",
    "def integra_mc(fun, a, b, num_puntos=10000)\n",
    "que calcule la integral de fun entre a y b por el método de Monte Carlo antes descrito, generando\n",
    "para ello num_puntos aleatoriamente. Puedes comprobar la corrección del resultado obtenido,\n",
    "comparándolo con el de aplicar la función scipy.integrate.quad de Python.\n",
    "Debes implementar dos versiones del algoritmo, una iterativa que realice num_puntos iteraciones para calcular el resultado, y otra que utilice operaciones entre vectores en lugar de bucles,\n",
    "comparando los tiempos de ejecución obtenidos con ambas versiones"
   ]
  },
  {
   "cell_type": "code",
   "execution_count": 2,
   "metadata": {},
   "outputs": [],
   "source": [
    "import time\n",
    "import numpy as np\n",
    "import scipy\n",
    "import matplotlib.pyplot as plt"
   ]
  },
  {
   "cell_type": "markdown",
   "metadata": {},
   "source": [
    "A continuación vamos a definir dos funciones, integra_mc y integra_mc_loop, ambas funciones van a tomar los siguientes argumentos:\n",
    "\n",
    "- La función a integrar.\n",
    "- El intervalo de integración (del tipo [a,b]).\n",
    "- El numero de puntos que vamos a generar para calcular la integral.\n"
   ]
  },
  {
   "cell_type": "code",
   "execution_count": null,
   "metadata": {},
   "outputs": [
    {
     "name": "stdout",
     "output_type": "stream",
     "text": [
      "2.6504\n",
      "2.6216\n",
      "(2.666666666666667, 2.960594732333751e-14)\n"
     ]
    }
   ],
   "source": [
    "#Función bucle\n",
    "def integra_mc_loop(fun =  lambda x: x**2, a = 0, b = 2, num_puntos = 10000):    \n",
    "    #Inicializamos los dos arrays necesarios\n",
    "    random_points = []\n",
    "    fun_points = []\n",
    "    num = 0\n",
    "    #Generamos de manera aleatoria num_puntos equidistantes entre a y b.\n",
    "    points = np.linspace(a, b, num_puntos)\n",
    "    #Aplicamos al función a los puntos previamente generados para conseguir un \"plot\" de la función.\n",
    "    fun_points = fun(points)\n",
    "    #Obtenemos el máximo de la función en el intervalo.\n",
    "    M = max(fun_points)\n",
    "    #Con estos pasos hemos definido el rectangulo sobre el que vamos a lanzar los puntos en el siguiente paso.\n",
    "    #Usando el loop generamos num_puntos aleatorios dentro de las dimensiones del rectángulo definido\n",
    "    #(a, b) x (0, M)\n",
    "    while num < num_puntos:\n",
    "    #Generamos num_puntos aleatorios dentro del rectangulo definido uno a uno usando un while loop.\n",
    "        random_points.append([np.random.uniform(a, b), np.random.uniform(0, M)])\n",
    "        num+=1\n",
    "    #Comprobamos cuales de los puntos se encuentran debajo de nuestra función.\n",
    "    debajo = 0\n",
    "    for punto in random_points:\n",
    "        if (fun(punto[0]) >= punto[1]):\n",
    "            debajo += 1\n",
    "    \n",
    "    #Calculamos la integral.\n",
    "    int = (debajo/num_puntos)*(b-a)*M\n",
    "    \n",
    "    return int \n",
    "\n",
    "#Función vector\n",
    "def integra_mc(fun =  lambda x: x**2, a = 0, b = 2, num_puntos = 10000): \n",
    "    #Generamos num_puntos aleatorios equidistantes en [a,b].\n",
    "    points = np.linspace(a,b,num_puntos)\n",
    "    #Aplicamos la función a los puntos generados y obtenemos la función.\n",
    "    fun_points = fun(points)\n",
    "    #Buscamos el máximo de la función en el intervalo.\n",
    "    M = max(fun_points)\n",
    "    #Generamos puntos aleatorios dentro del rectangulo definido por el intervalo y el máximo de la función.\n",
    "    x = np.random.uniform(a, b, num_puntos)\n",
    "    y = np.random.uniform(0, M, num_puntos)\n",
    "    \n",
    "    #Calculamos los puntos por debajo de la función, usamos la función count_nonzero de numpy, esta calcula cuantos de los elementos del array \n",
    "    #(generado por la comparación del array de y la aplicación de la función sobre el array de x) son menores de cero, \n",
    "    #al ser True = 1 en python obtenemos una cuenta de los elementos que se encuentran por debajo de la función.\n",
    "    #debajo = np.count_nonzero(y <= fun(x))\n",
    "    debajo = np.count_nonzero(y <= fun(x))\n",
    "    #Calculamos la integral.\n",
    "    int = (debajo/num_puntos)*(b-a)*M\n",
    "    \n",
    "    return int\n",
    "\n",
    "fun = lambda x: x**2\n",
    "\n",
    "#Comprobamos los valores de las \n",
    "print(integra_mc(fun))\n",
    "print(integra_mc_loop(fun))\n",
    "print(scipy.integrate.quad(fun, 0, 2))\n",
    "\n",
    "\n",
    "    \n",
    "    \n",
    "    \n",
    "    \n",
    "    "
   ]
  },
  {
   "cell_type": "markdown",
   "metadata": {},
   "source": [
    "A continuación adaptamos la función \"compara_tiempos_dot()\" en el código que nos ha proporcionado la profesora para calcular el tiempo que tarda cada versión de la fubnción en ejecutarse basandose en el número de puntos que generamos en cada ocasión.\n",
    "Usaremos la librería matplotlib para conseguir un gráfico que visualize la diferencia en los tiempos de ejecución. "
   ]
  },
  {
   "cell_type": "code",
   "execution_count": 6,
   "metadata": {},
   "outputs": [
    {
     "name": "stdout",
     "output_type": "stream",
     "text": [
      "(2.666666666666667, 2.960594732333751e-14)\n",
      "2.7112\n",
      "2.6456\n"
     ]
    },
    {
     "data": {
      "image/png": "[encoded data removed]",
      "text/plain": [
       "<Figure size 640x480 with 1 Axes>"
      ]
     },
     "metadata": {},
     "output_type": "display_data"
    }
   ],
   "source": [
    "def compara_tiempos(fun1 , fun2):\n",
    "    #Generamos los diferentes valores con los que vamos a testear las funciones.\n",
    "    sizes = np.linspace(100, 10000000, 20)\n",
    "    times_dot = []\n",
    "    times_fast_dot = []\n",
    "    #Para cada valor generado probamos la rapidez de cada función\n",
    "    for size in sizes:\n",
    "        tic = time.process_time()\n",
    "        fun1(num_puntos = int(size))\n",
    "        toc = time.process_time()\n",
    "        times_dot += [1000 * (toc - tic)]\n",
    "        tic = time.process_time()\n",
    "        fun2(num_puntos = int(size))\n",
    "        toc = time.process_time()\n",
    "        times_fast_dot += [1000 * (toc - tic)]\n",
    "    #Una vez tenemos los datos hacemos el plot de los resuktados.\n",
    "    plt.figure()\n",
    "    plt.scatter(sizes, times_dot, c='red', label='bucle')\n",
    "    plt.scatter(sizes, times_fast_dot, c='blue', label='vector')\n",
    "    plt.legend()\n",
    "    plt.savefig('compara tiempos dot.png')\n",
    "\n",
    "print(scipy.integrate.quad(fun, 0, 2))\n",
    "print(integra_mc_loop())\n",
    "print(integra_mc())\n",
    "compara_tiempos(integra_mc_loop,integra_mc)\n"
   ]
  },
  {
   "cell_type": "code",
   "execution_count": null,
   "metadata": {},
   "outputs": [],
   "source": []
  },
  {
   "cell_type": "markdown",
   "metadata": {},
   "source": [
    "Como se puede observar en la gráfica el numero de puntos generados y el tiempo que tarda la función integra_mc_loop() es directamente proporcional, es deicr, a más puntos aleatorios generados para determinar la integral mayor será el tiempo que la función necesitará para acabar su ejecución, esto se debe a los siguientes factores:\n",
    "- Se usa un número considerable de llamadas a la función numpy.random.uniform() para generar puntos aleatorios, este número se ve directamente afectado por el incremento en el argumento num_puntos.\n",
    "- Cuenta con dos loops que si bien no están anidados suponen un peso grande para el tiempo de ejecución de la función, además de verse directamente afectados por el incremento del argumento num_puntos.\n",
    "\n",
    "Al contrario en la función interga_mc() si bien también se observa una pequeña subida en el tiempo de ejecución pero es mucho menor a la observada en la versión anterior de la función, los motivos por los que se puede observar esa mejora son los siguientes:\n",
    "- La cantidad de llamadas necesarias para la generación de puntos aleatorios se desvincula de la variable num_puntos, si bien el número de puntos a generar no varía la cantidad de llamadas necesaria si, lo cual reduce el tiempo de ejecución.\n",
    "- Se eliminan los loops presentes en la versión anterior y se simplifica la generación de puntos (ya no se crean de uno en uno si no en un array con tamaño num_puntos). \n",
    "\n",
    "Así podemos ver que el tamaño de los bucles esta directamente relacionado con el tamaño de ejecución del programa."
   ]
  },
  {
   "cell_type": "code",
   "execution_count": null,
   "metadata": {},
   "outputs": [],
   "source": []
  }
 ],
 "metadata": {
  "kernelspec": {
   "display_name": "base",
   "language": "python",
   "name": "python3"
  },
  "language_info": {
   "codemirror_mode": {
    "name": "ipython",
    "version": 3
   },
   "file_extension": ".py",
   "mimetype": "text/x-python",
   "name": "python",
   "nbconvert_exporter": "python",
   "pygments_lexer": "ipython3",
   "version": "3.12.7"
  }
 },
 "nbformat": 4,
 "nbformat_minor": 2
}
