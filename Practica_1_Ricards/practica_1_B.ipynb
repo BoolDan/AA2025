{
  "nbformat": 4,
  "nbformat_minor": 0,
  "metadata": {
    "colab": {
      "provenance": []
    },
    "kernelspec": {
      "name": "python3",
      "display_name": "Python 3"
    },
    "language_info": {
      "name": "python"
    }
  },
  "cells": [
    {
      "cell_type": "markdown",
      "source": [
        "# Practica 1\n",
        "\n",
        "## Parte B\n",
        "\n",
        "### Ejercicio 1:\n",
        "\n",
        "Instalamos el dataset \"ml-100k\" (ya esta incluido con la libreria scikit-surprise)."
      ],
      "metadata": {
        "id": "dwmeHG0fk1v2"
      }
    },
    {
      "cell_type": "code",
      "source": [
        "pip install scikit-surprise"
      ],
      "metadata": {
        "colab": {
          "base_uri": "https://localhost:8080/"
        },
        "id": "mtlwGsTBqH0I",
        "outputId": "f872fb81-59e4-4be6-dd3c-90e003d545db"
      },
      "execution_count": null,
      "outputs": [
        {
          "output_type": "stream",
          "name": "stdout",
          "text": [
            "Collecting scikit-surprise\n",
            "  Downloading scikit_surprise-1.1.4.tar.gz (154 kB)\n",
            "\u001b[?25l     \u001b[90m━━━━━━━━━━━━━━━━━━━━━━━━━━━━━━━━━━━━━━━━\u001b[0m \u001b[32m0.0/154.4 kB\u001b[0m \u001b[31m?\u001b[0m eta \u001b[36m-:--:--\u001b[0m\r\u001b[2K     \u001b[91m━━━━━━━━━━━━━━━━━━━━━━━━━━━━━━━━━━━━━━━\u001b[0m\u001b[91m╸\u001b[0m \u001b[32m153.6/154.4 kB\u001b[0m \u001b[31m4.9 MB/s\u001b[0m eta \u001b[36m0:00:01\u001b[0m\r\u001b[2K     \u001b[90m━━━━━━━━━━━━━━━━━━━━━━━━━━━━━━━━━━━━━━━━\u001b[0m \u001b[32m154.4/154.4 kB\u001b[0m \u001b[31m3.5 MB/s\u001b[0m eta \u001b[36m0:00:00\u001b[0m\n",
            "\u001b[?25h  Installing build dependencies ... \u001b[?25l\u001b[?25hdone\n",
            "  Getting requirements to build wheel ... \u001b[?25l\u001b[?25hdone\n",
            "  Preparing metadata (pyproject.toml) ... \u001b[?25l\u001b[?25hdone\n",
            "Requirement already satisfied: joblib>=1.2.0 in /usr/local/lib/python3.11/dist-packages (from scikit-surprise) (1.4.2)\n",
            "Requirement already satisfied: numpy>=1.19.5 in /usr/local/lib/python3.11/dist-packages (from scikit-surprise) (1.26.4)\n",
            "Requirement already satisfied: scipy>=1.6.0 in /usr/local/lib/python3.11/dist-packages (from scikit-surprise) (1.13.1)\n",
            "Building wheels for collected packages: scikit-surprise\n",
            "  Building wheel for scikit-surprise (pyproject.toml) ... \u001b[?25l\u001b[?25hdone\n",
            "  Created wheel for scikit-surprise: filename=scikit_surprise-1.1.4-cp311-cp311-linux_x86_64.whl size=2505178 sha256=85bdd90b3f277c6bd532850de8f098508d4de54d2eff734fed58a615da4d3a16\n",
            "  Stored in directory: /root/.cache/pip/wheels/2a/8f/6e/7e2899163e2d85d8266daab4aa1cdabec7a6c56f83c015b5af\n",
            "Successfully built scikit-surprise\n",
            "Installing collected packages: scikit-surprise\n",
            "Successfully installed scikit-surprise-1.1.4\n"
          ]
        }
      ]
    },
    {
      "cell_type": "code",
      "execution_count": null,
      "metadata": {
        "id": "Au3L_8TiiVpT"
      },
      "outputs": [],
      "source": [
        "import os\n",
        "import pandas as pd\n",
        "import numpy as np\n",
        "\n",
        "# Variable SEED, para que cada vez que se ejecute el código salgan los mismos resultados\n",
        "SEED = 123"
      ]
    },
    {
      "cell_type": "code",
      "source": [
        "# Cargar movielens-100k dataset\n",
        "from surprise import Dataset\n",
        "\n",
        "data = Dataset.load_builtin(\"ml-100k\")"
      ],
      "metadata": {
        "id": "83uH2x4PsmrB",
        "colab": {
          "base_uri": "https://localhost:8080/"
        },
        "outputId": "4e8975e5-d288-4fe2-831a-6d6caf4b98ef"
      },
      "execution_count": null,
      "outputs": [
        {
          "output_type": "stream",
          "name": "stdout",
          "text": [
            "Dataset ml-100k could not be found. Do you want to download it? [Y/n] y\n",
            "Trying to download dataset from https://files.grouplens.org/datasets/movielens/ml-100k.zip...\n",
            "Done! Dataset ml-100k has been saved to /root/.surprise_data/ml-100k\n"
          ]
        }
      ]
    },
    {
      "cell_type": "markdown",
      "source": [
        "### Ejercicio 2:\n",
        "\n",
        "surprise tiene funcion **train_test_split** que acepta datos de entrada y se puede especificar que fraccion de datos vamos a usar para la evaluacion."
      ],
      "metadata": {
        "id": "8_wa2dvCrwnZ"
      }
    },
    {
      "cell_type": "code",
      "source": [
        "# Dividir data en particiones de entrenamiento (75%) y evaluacion (25%)\n",
        "from surprise.model_selection import train_test_split\n",
        "\n",
        "trainset, testset = train_test_split(data, test_size=0.25, random_state=SEED)"
      ],
      "metadata": {
        "id": "thZ8RX6TrKfJ"
      },
      "execution_count": null,
      "outputs": []
    },
    {
      "cell_type": "markdown",
      "source": [
        "### Ejercicio 3/4:\n",
        "\n",
        "En primer caso, utilizamos KNNBasic con la metrica de similtud pearson para realizar filtrado colaborativo basado en vecinos. KNN es un clasificador de aprendizaje supervisado no paramétrico que utiliza la proximidad para realizar predicciones sobre la agrupación de un punto de datos individual.\n",
        "\n",
        "Primer caso es basado en usarios. Tambien, podemos ver detalles estadisticos como RMSE, MSE, MAE y tiempos de ejecucion de datos de entrenamiento."
      ],
      "metadata": {
        "id": "0S-Qae5-thx8"
      }
    },
    {
      "cell_type": "code",
      "source": [
        "# Filtrado KNNBasic basado en usarios\n",
        "from surprise import KNNBasic\n",
        "from surprise.model_selection.validation import cross_validate\n",
        "\n",
        "knn_basic_user = KNNBasic(sim_options={\"name\": \"pearson\", \"user_based\": True}, random_state=SEED)\n",
        "knn_basic_user.fit(trainset)\n",
        "\n",
        "# Mostrar los resultados\n",
        "cross_validate(knn_basic_user, data, measures=[\"RMSE\", \"MSE\", \"MAE\"], cv=5, verbose=True)"
      ],
      "metadata": {
        "colab": {
          "base_uri": "https://localhost:8080/"
        },
        "id": "AeZinjoCtjhy",
        "outputId": "02e10a11-8395-4242-d66b-1709e594c27f"
      },
      "execution_count": null,
      "outputs": [
        {
          "output_type": "stream",
          "name": "stdout",
          "text": [
            "Computing the pearson similarity matrix...\n",
            "Done computing similarity matrix.\n",
            "Computing the pearson similarity matrix...\n",
            "Done computing similarity matrix.\n",
            "Computing the pearson similarity matrix...\n",
            "Done computing similarity matrix.\n",
            "Computing the pearson similarity matrix...\n",
            "Done computing similarity matrix.\n",
            "Computing the pearson similarity matrix...\n",
            "Done computing similarity matrix.\n",
            "Computing the pearson similarity matrix...\n",
            "Done computing similarity matrix.\n",
            "Evaluating RMSE, MSE, MAE of algorithm KNNBasic on 5 split(s).\n",
            "\n",
            "                  Fold 1  Fold 2  Fold 3  Fold 4  Fold 5  Mean    Std     \n",
            "RMSE (testset)    1.0133  1.0053  1.0171  1.0100  1.0137  1.0119  0.0040  \n",
            "MSE (testset)     1.0267  1.0105  1.0345  1.0200  1.0276  1.0239  0.0081  \n",
            "MAE (testset)     0.8039  0.7961  0.8085  0.8010  0.8042  0.8027  0.0041  \n",
            "Fit time          1.30    0.62    1.02    0.61    0.62    0.84    0.28    \n",
            "Test time         3.13    2.85    3.23    2.87    6.03    3.62    1.21    \n"
          ]
        },
        {
          "output_type": "execute_result",
          "data": {
            "text/plain": [
              "{'test_rmse': array([1.01326942, 1.00525329, 1.01708668, 1.00996748, 1.01370522]),\n",
              " 'test_mse': array([1.02671492, 1.01053417, 1.03446532, 1.02003432, 1.02759828]),\n",
              " 'test_mae': array([0.80386545, 0.79608709, 0.80847087, 0.80096623, 0.8041846 ]),\n",
              " 'fit_time': (1.2986500263214111,\n",
              "  0.618494987487793,\n",
              "  1.0242464542388916,\n",
              "  0.6129755973815918,\n",
              "  0.6246311664581299),\n",
              " 'test_time': (3.129380941390991,\n",
              "  2.846304178237915,\n",
              "  3.2254109382629395,\n",
              "  2.870974540710449,\n",
              "  6.033080101013184)}"
            ]
          },
          "metadata": {},
          "execution_count": 6
        }
      ]
    },
    {
      "cell_type": "markdown",
      "source": [
        "En segundo caso, todavia utilizamos KNNBasic sino en este caso para filtrado basado en productos."
      ],
      "metadata": {
        "id": "txLJRiPRZIkV"
      }
    },
    {
      "cell_type": "code",
      "source": [
        "# Filtrado KNNBasic basado en productos\n",
        "from surprise import KNNBasic\n",
        "\n",
        "knn_basic_product = KNNBasic(sim_options={\"name\": \"pearson\", \"user_based\": False}, random_state=SEED)\n",
        "knn_basic_product.fit(trainset)\n",
        "\n",
        "# Mostrar los resultados\n",
        "cross_validate(knn_basic_product, data, measures=[\"RMSE\", \"MSE\", \"MAE\"], cv=5, verbose=True)"
      ],
      "metadata": {
        "colab": {
          "base_uri": "https://localhost:8080/"
        },
        "id": "-mg80p-ju51S",
        "outputId": "50e3cf76-5f4c-4a67-abe1-6abd96b80f80"
      },
      "execution_count": null,
      "outputs": [
        {
          "output_type": "stream",
          "name": "stdout",
          "text": [
            "Computing the pearson similarity matrix...\n",
            "Done computing similarity matrix.\n",
            "Computing the pearson similarity matrix...\n",
            "Done computing similarity matrix.\n",
            "Computing the pearson similarity matrix...\n",
            "Done computing similarity matrix.\n",
            "Computing the pearson similarity matrix...\n",
            "Done computing similarity matrix.\n",
            "Computing the pearson similarity matrix...\n",
            "Done computing similarity matrix.\n",
            "Computing the pearson similarity matrix...\n",
            "Done computing similarity matrix.\n",
            "Evaluating RMSE, MSE, MAE of algorithm KNNBasic on 5 split(s).\n",
            "\n",
            "                  Fold 1  Fold 2  Fold 3  Fold 4  Fold 5  Mean    Std     \n",
            "RMSE (testset)    1.0354  1.0436  1.0462  1.0415  1.0352  1.0404  0.0044  \n",
            "MSE (testset)     1.0721  1.0890  1.0945  1.0847  1.0716  1.0824  0.0091  \n",
            "MAE (testset)     0.8299  0.8376  0.8382  0.8346  0.8289  0.8338  0.0038  \n",
            "Fit time          0.99    1.49    1.01    0.91    0.90    1.06    0.22    \n",
            "Test time         3.10    3.61    3.20    4.20    3.28    3.48    0.40    \n"
          ]
        },
        {
          "output_type": "execute_result",
          "data": {
            "text/plain": [
              "{'test_rmse': array([1.03543189, 1.04356581, 1.04620686, 1.04150264, 1.03520073]),\n",
              " 'test_mse': array([1.07211919, 1.08902961, 1.09454879, 1.08472775, 1.07164056]),\n",
              " 'test_mae': array([0.82991946, 0.8375962 , 0.83824325, 0.83455163, 0.82892574]),\n",
              " 'fit_time': (0.9866795539855957,\n",
              "  1.4895381927490234,\n",
              "  1.0133533477783203,\n",
              "  0.9146215915679932,\n",
              "  0.9035992622375488),\n",
              " 'test_time': (3.1027908325195312,\n",
              "  3.614504337310791,\n",
              "  3.1985890865325928,\n",
              "  4.196393728256226,\n",
              "  3.284980297088623)}"
            ]
          },
          "metadata": {},
          "execution_count": 7
        }
      ]
    },
    {
      "cell_type": "markdown",
      "source": [
        "En la otra parte, utilizamos SVD y NMF para realizar filtrado colaborativo basado en modelos usando factorización de matrices.\n",
        "\n",
        "En primer caso, utilizamos SVD. La idea de este algoritmo es hacer operaciones de algebra lineal - factorización de una matriz real o compleja en una rotación, seguida de un reescalado seguido de otra rotación."
      ],
      "metadata": {
        "id": "EvbEMlKhZSDo"
      }
    },
    {
      "cell_type": "code",
      "source": [
        "# Filtrado colaborativo SVD\n",
        "from surprise import SVD\n",
        "\n",
        "svd = SVD(random_state=SEED)\n",
        "svd.fit(trainset)\n",
        "\n",
        "# Mostrar los resultados\n",
        "cross_validate(svd, data, measures=[\"RMSE\", \"MSE\", \"MAE\"], cv=5, verbose=True)"
      ],
      "metadata": {
        "colab": {
          "base_uri": "https://localhost:8080/"
        },
        "id": "_N29n6WEzxft",
        "outputId": "a8040093-719c-4895-97a6-e70c629f631f"
      },
      "execution_count": null,
      "outputs": [
        {
          "output_type": "stream",
          "name": "stdout",
          "text": [
            "Evaluating RMSE, MSE, MAE of algorithm SVD on 5 split(s).\n",
            "\n",
            "                  Fold 1  Fold 2  Fold 3  Fold 4  Fold 5  Mean    Std     \n",
            "RMSE (testset)    0.9307  0.9398  0.9273  0.9420  0.9370  0.9354  0.0055  \n",
            "MSE (testset)     0.8661  0.8833  0.8599  0.8873  0.8780  0.8749  0.0104  \n",
            "MAE (testset)     0.7344  0.7406  0.7324  0.7392  0.7394  0.7372  0.0032  \n",
            "Fit time          1.39    1.30    1.35    1.44    1.33    1.36    0.05    \n",
            "Test time         0.10    0.12    0.39    0.10    0.22    0.19    0.11    \n"
          ]
        },
        {
          "output_type": "execute_result",
          "data": {
            "text/plain": [
              "{'test_rmse': array([0.93065023, 0.93984428, 0.92728643, 0.94197911, 0.9370042 ]),\n",
              " 'test_mse': array([0.86610986, 0.88330728, 0.85986012, 0.88732464, 0.87797688]),\n",
              " 'test_mae': array([0.73440012, 0.74061803, 0.73240902, 0.73915711, 0.73944478]),\n",
              " 'fit_time': (1.3922641277313232,\n",
              "  1.2975091934204102,\n",
              "  1.3522517681121826,\n",
              "  1.4401121139526367,\n",
              "  1.3292179107666016),\n",
              " 'test_time': (0.10227560997009277,\n",
              "  0.11933112144470215,\n",
              "  0.39071059226989746,\n",
              "  0.10284161567687988,\n",
              "  0.22319602966308594)}"
            ]
          },
          "metadata": {},
          "execution_count": 8
        }
      ]
    },
    {
      "cell_type": "markdown",
      "source": [
        "En segundo caso, utilizamos NMF. La factorización de matrices no negativas es un algoritmo en el que una matriz se factoriza en otras dos matrices con la propiedad de que las tres matrices no tienen elementos negativos. Esta no negatividad hace que las matrices resultantes sean más fáciles de verificar."
      ],
      "metadata": {
        "id": "YVwU_KRFbXPv"
      }
    },
    {
      "cell_type": "code",
      "source": [
        "# Filtrado colaborativo NMF\n",
        "from surprise import NMF\n",
        "\n",
        "nmf = NMF(random_state=SEED)\n",
        "nmf.fit(trainset)\n",
        "\n",
        "# Mostrar los resultados\n",
        "cross_validate(nmf, data, measures=[\"RMSE\", \"MSE\", \"MAE\"], cv=5, verbose=True)"
      ],
      "metadata": {
        "colab": {
          "base_uri": "https://localhost:8080/"
        },
        "id": "dr6qv7QK0OMR",
        "outputId": "8f14035f-e81d-4d54-8f5d-f6c0880e478a"
      },
      "execution_count": null,
      "outputs": [
        {
          "output_type": "stream",
          "name": "stdout",
          "text": [
            "Evaluating RMSE, MSE, MAE of algorithm NMF on 5 split(s).\n",
            "\n",
            "                  Fold 1  Fold 2  Fold 3  Fold 4  Fold 5  Mean    Std     \n",
            "RMSE (testset)    0.9589  0.9543  0.9621  0.9658  0.9621  0.9606  0.0039  \n",
            "MSE (testset)     0.9195  0.9106  0.9256  0.9328  0.9256  0.9228  0.0074  \n",
            "MAE (testset)     0.7564  0.7496  0.7546  0.7597  0.7563  0.7553  0.0033  \n",
            "Fit time          1.95    2.01    1.98    2.76    1.98    2.14    0.31    \n",
            "Test time         0.10    0.22    0.08    0.09    0.26    0.15    0.08    \n"
          ]
        },
        {
          "output_type": "execute_result",
          "data": {
            "text/plain": [
              "{'test_rmse': array([0.95890697, 0.95427665, 0.96208591, 0.96581586, 0.96208607]),\n",
              " 'test_mse': array([0.91950258, 0.91064392, 0.92560929, 0.93280028, 0.9256096 ]),\n",
              " 'test_mae': array([0.75635132, 0.74960846, 0.75461102, 0.75966807, 0.75632077]),\n",
              " 'fit_time': (1.9531447887420654,\n",
              "  2.01442813873291,\n",
              "  1.9788787364959717,\n",
              "  2.756999969482422,\n",
              "  1.9837486743927002),\n",
              " 'test_time': (0.09654498100280762,\n",
              "  0.2221992015838623,\n",
              "  0.08441424369812012,\n",
              "  0.08793854713439941,\n",
              "  0.261502742767334)}"
            ]
          },
          "metadata": {},
          "execution_count": 9
        }
      ]
    },
    {
      "cell_type": "markdown",
      "source": [
        "### Ejercicio 5:\n",
        "\n",
        "Cuando tenemos todos algoritmos entrenados, utlizamos funcion **test** con cada de los algoritmos y le pasamos datos de evaluacion. Pero antes de eso, es importante asegurar que datos de testset son limpios y utiles. En nuestro caso, significa eliminar peliculas con rating menor de 4 porque lo interpretamos que eran peliculas malas para usario concreto.  "
      ],
      "metadata": {
        "id": "Lp7_HEKr05g5"
      }
    },
    {
      "cell_type": "code",
      "source": [
        "# Hacer predicciones para conjunto de evaluacion con cada algoritmo\n",
        "from surprise import accuracy\n",
        "\n",
        "# solo tomar peliculas de testset con rating 4 o mas\n",
        "testset = [x for x in testset if x[2] >= 4]\n",
        "\n",
        "predictions_user = knn_basic_user.test(testset)\n",
        "predictions_product = knn_basic_product.test(testset)\n",
        "predictions_svd = svd.test(testset)\n",
        "predictions_nmf = nmf.test(testset)\n",
        "\n",
        "# Mostrar 5 resultados de cada predicciones\n",
        "N = 5\n",
        "\n",
        "res_user = predictions_user[:N]\n",
        "res_product = predictions_product[:N]\n",
        "res_svd = predictions_svd[:N]\n",
        "res_nmf = predictions_nmf[:N]\n",
        "\n",
        "from pprint import pprint\n",
        "\n",
        "print(\"FILTRADO BASADO EN USUARIOS\")\n",
        "pprint(res_user)\n",
        "print()\n",
        "print(\"FILTRADO BASADO EN PRODUCTOS\")\n",
        "pprint(res_product)\n",
        "print()\n",
        "print(\"FILTRADO COLLABORATIVO SVD\")\n",
        "pprint(res_svd)\n",
        "print()\n",
        "print(\"FILTRADO COLLABORATIVO NMF\")\n",
        "pprint(res_nmf)\n",
        "print()\n",
        "\n",
        "# # Sort las predicciones de mejores a peores\n",
        "# predictions_user.sort(key=lambda x: x.est, reverse=True)\n",
        "# predictions_product.sort(key=lambda x: x.est, reverse=True)\n",
        "# predictions_svd.sort(key=lambda x: x.est, reverse=True)\n",
        "# predictions_nmf.sort(key=lambda x: x.est, reverse=True)"
      ],
      "metadata": {
        "colab": {
          "base_uri": "https://localhost:8080/"
        },
        "id": "75Ry1gWR1C-j",
        "outputId": "00ee248c-dfcd-4164-afa3-c7a7ae4735ab"
      },
      "execution_count": null,
      "outputs": [
        {
          "output_type": "stream",
          "name": "stdout",
          "text": [
            "FILTRADO BASADO EN USUARIOS\n",
            "[Prediction(uid='296', iid='462', r_ui=4.0, est=3.708019495021707, details={'actual_k': 40, 'was_impossible': False}),\n",
            " Prediction(uid='272', iid='187', r_ui=5.0, est=4.36649823387495, details={'actual_k': 40, 'was_impossible': False}),\n",
            " Prediction(uid='883', iid='185', r_ui=5.0, est=4.570412703163265, details={'actual_k': 40, 'was_impossible': False}),\n",
            " Prediction(uid='524', iid='79', r_ui=4.0, est=3.9531223102396273, details={'actual_k': 40, 'was_impossible': False}),\n",
            " Prediction(uid='7', iid='93', r_ui=5.0, est=3.905781836217559, details={'actual_k': 40, 'was_impossible': False})]\n",
            "\n",
            "FILTRADO BASADO EN PRODUCTOS\n",
            "[Prediction(uid='296', iid='462', r_ui=4.0, est=4.111159191448558, details={'actual_k': 40, 'was_impossible': False}),\n",
            " Prediction(uid='272', iid='187', r_ui=5.0, est=4.578672282025403, details={'actual_k': 35, 'was_impossible': False}),\n",
            " Prediction(uid='883', iid='185', r_ui=5.0, est=4.136015790388917, details={'actual_k': 40, 'was_impossible': False}),\n",
            " Prediction(uid='524', iid='79', r_ui=4.0, est=3.297984610093984, details={'actual_k': 40, 'was_impossible': False}),\n",
            " Prediction(uid='7', iid='93', r_ui=5.0, est=4.027968415912873, details={'actual_k': 40, 'was_impossible': False})]\n",
            "\n",
            "FILTRADO COLLABORATIVO SVD\n",
            "[Prediction(uid='296', iid='462', r_ui=4.0, est=4.175687255872115, details={'was_impossible': False}),\n",
            " Prediction(uid='272', iid='187', r_ui=5.0, est=4.649511858290209, details={'was_impossible': False}),\n",
            " Prediction(uid='883', iid='185', r_ui=5.0, est=4.47766822683695, details={'was_impossible': False}),\n",
            " Prediction(uid='524', iid='79', r_ui=4.0, est=3.5447724000162784, details={'was_impossible': False}),\n",
            " Prediction(uid='7', iid='93', r_ui=5.0, est=3.9495096249656343, details={'was_impossible': False})]\n",
            "\n",
            "FILTRADO COLLABORATIVO NMF\n",
            "[Prediction(uid='296', iid='462', r_ui=4.0, est=4.303176209469436, details={'was_impossible': False}),\n",
            " Prediction(uid='272', iid='187', r_ui=5.0, est=4.383410024535271, details={'was_impossible': False}),\n",
            " Prediction(uid='883', iid='185', r_ui=5.0, est=4.500711598882708, details={'was_impossible': False}),\n",
            " Prediction(uid='524', iid='79', r_ui=4.0, est=3.8163308797339757, details={'was_impossible': False}),\n",
            " Prediction(uid='7', iid='93', r_ui=5.0, est=4.432681371711353, details={'was_impossible': False})]\n",
            "\n"
          ]
        }
      ]
    },
    {
      "cell_type": "markdown",
      "source": [
        "En cada de las predicciones, podemos ver atributos \"est\" y \"r_ui\" que nos interesan mas. Est nos muestra la valor prediccionada (estimada) comparando con la referencia (r_ui). Estos datos nos dan la primera impresion de la calidad de predicciones de cada algoritmo.\n",
        "\n",
        "### Ejercicio 6:\n",
        "\n",
        "En esta parte obtenemos difetentes metrics estadisticos para evaluar cada modelo y hacer conclusiones. Empezamos por RMSE, usando la funcion **accuracy** de surprise."
      ],
      "metadata": {
        "id": "z63YE0S13BQS"
      }
    },
    {
      "cell_type": "code",
      "source": [
        "from surprise import accuracy\n",
        "\n",
        "# Evaluacion RMSE\n",
        "rmse_user = accuracy.rmse(predictions_user, verbose=True)\n",
        "rmse_product = accuracy.rmse(predictions_product, verbose=True)\n",
        "rmse_svd = accuracy.rmse(predictions_svd, verbose=True)\n",
        "rmse_nmf = accuracy.rmse(predictions_nmf, verbose=True)"
      ],
      "metadata": {
        "colab": {
          "base_uri": "https://localhost:8080/"
        },
        "id": "bJR8O8sS30eD",
        "outputId": "4ab7ef9d-dc64-41f0-d2bc-1ef65b356f7f"
      },
      "execution_count": null,
      "outputs": [
        {
          "output_type": "stream",
          "name": "stdout",
          "text": [
            "RMSE: 0.7138\n",
            "RMSE: 0.7851\n",
            "RMSE: 0.6583\n",
            "RMSE: 0.7398\n"
          ]
        }
      ]
    },
    {
      "cell_type": "markdown",
      "source": [
        "! IMPORTANTE: he hecho la version de enunciado antigua (implementado precision@k y recall@k) !\n",
        "\n",
        "La funcion siguiente hace numerosas operaciones para obtener precision@k:\n",
        "1. agrupa todas las predicciones por usario;\n",
        "2. para cada usario, ordena los items por el rating prediccionado;\n",
        "3. marca los primeros k items como recomendados (1) y el resto como no recomendados (0);\n",
        "4. crea un vector de valores verdaderos en el que cada item se considera relevante si su rating real es mayor a 4;\n",
        "5. calcula la precision usando precision_score de sklrean para cada usuario.\n",
        "\n",
        "Precision es util porque nos muestra la fraccion de instancias relevantes entre las instancias recuperadas."
      ],
      "metadata": {
        "id": "xF_magGZg1FB"
      }
    },
    {
      "cell_type": "code",
      "source": [
        "K = 10\n",
        "\n",
        "# Evaluacion precision usando precision_score\n",
        "import numpy as np\n",
        "from sklearn.metrics import precision_score\n",
        "from collections import defaultdict\n",
        "\n",
        "def precision_at_k(predictions, k=10, threshold=4.0):\n",
        "    # grupa predicciones por usario\n",
        "    user_preds = defaultdict(list)\n",
        "    for uid, iid, true_r, est, _ in predictions:\n",
        "        user_preds[uid].append((iid, true_r, est))\n",
        "\n",
        "    precisions = []\n",
        "    for uid, preds in user_preds.items():\n",
        "        # ordena predicciones\n",
        "        preds_sorted = sorted(preds, key=lambda x: x[2], reverse=True)\n",
        "        n = len(preds_sorted)\n",
        "\n",
        "        # crea vector binario de prediccion (relevante = 1, irrelevante = 0).\n",
        "        y_pred = np.zeros(n)\n",
        "        top_k = min(k, n)\n",
        "        y_pred[:top_k] = 1\n",
        "\n",
        "        y_true = np.array([1 if true_r > threshold else 0 for (_, true_r, _) in preds_sorted])\n",
        "\n",
        "        # calcula precision\n",
        "        prec = precision_score(y_true, y_pred, zero_division=0)\n",
        "        precisions.append(prec)\n",
        "\n",
        "    return np.mean(precisions)"
      ],
      "metadata": {
        "id": "SUBgl5ua20lR"
      },
      "execution_count": null,
      "outputs": []
    },
    {
      "cell_type": "code",
      "source": [
        "# obtenemos los valores de precision\n",
        "precision_user = precision_at_k(predictions_user, k=K)\n",
        "precision_product = precision_at_k(predictions_product, k=K)\n",
        "precision_svd = precision_at_k(predictions_svd, k=K)\n",
        "precision_nmf = precision_at_k(predictions_nmf, k=K)\n",
        "\n",
        "print(\"Precision@10 (basado en usario):\", precision_user)\n",
        "print(\"Precision@10 (basado en productos):\", precision_product)\n",
        "print(\"Precision@10 (SVD):\", precision_svd)\n",
        "print(\"Precision@10 (NMF):\", precision_nmf)"
      ],
      "metadata": {
        "colab": {
          "base_uri": "https://localhost:8080/"
        },
        "id": "nutxW1JL3HMt",
        "outputId": "2f90b111-5c82-4b70-9709-21a0917749bd"
      },
      "execution_count": null,
      "outputs": [
        {
          "output_type": "stream",
          "name": "stdout",
          "text": [
            "Precision@10 (basado en usario): 0.45457496346147314\n",
            "Precision@10 (basado en productos): 0.44526018830087355\n",
            "Precision@10 (SVD): 0.45114883926447097\n",
            "Precision@10 (NMF): 0.42341864654498484\n"
          ]
        }
      ]
    },
    {
      "cell_type": "markdown",
      "source": [
        "En la funcion **recall_at_k** la preparacion es parecida a la de **precision_at_k**, sino al final utilizamos recall_score para obtener recall. La metrica de recall muestra la fraccion de instancias relevantes que se recuperaron."
      ],
      "metadata": {
        "id": "zU6JOxasiSOe"
      }
    },
    {
      "cell_type": "code",
      "source": [
        "import numpy as np\n",
        "from collections import defaultdict\n",
        "from sklearn.metrics import recall_score\n",
        "\n",
        "# Evaluacion recall usando recall_score\n",
        "def recall_at_k(predictions, k=10, threshold=4.0):\n",
        "    # grupa predicciones por usario\n",
        "    user_preds = defaultdict(list)\n",
        "    for uid, iid, true_r, est, _ in predictions:\n",
        "        user_preds[uid].append((iid, true_r, est))\n",
        "\n",
        "    recalls = []\n",
        "    for uid, preds in user_preds.items():\n",
        "        # ordena predicciones\n",
        "        preds_sorted = sorted(preds, key=lambda x: x[2], reverse=True)\n",
        "        n = len(preds_sorted)\n",
        "\n",
        "        # crea vector binario de prediccion (relevant = 1, irrelevante = 0).\n",
        "        y_pred = np.zeros(n)\n",
        "        top_k = min(k, n)\n",
        "        y_pred[:top_k] = 1\n",
        "\n",
        "        y_true = np.array([1 if true_r > threshold else 0 for (_, true_r, _) in preds_sorted])\n",
        "\n",
        "        # calcula recall\n",
        "        rec = recall_score(y_true, y_pred, zero_division=0)\n",
        "        recalls.append(rec)\n",
        "\n",
        "    return np.mean(recalls)"
      ],
      "metadata": {
        "id": "m-lkYs2r5J9R"
      },
      "execution_count": null,
      "outputs": []
    },
    {
      "cell_type": "code",
      "source": [
        "# obtenemos los valores de recall\n",
        "recall_user = recall_at_k(predictions_user, k=K)\n",
        "recall_product = recall_at_k(predictions_product, k=K)\n",
        "recall_svd = recall_at_k(predictions_svd, k=K)\n",
        "recall_nmf = recall_at_k(predictions_nmf, k=K)\n",
        "\n",
        "print(\"Recall@10 (basado en usario):\", recall_user)\n",
        "print(\"Recall@10 (basado en productos):\", recall_product)\n",
        "print(\"Recall@10 (SVD):\", recall_svd)\n",
        "print(\"Recall@10 (NMF):\", recall_nmf)"
      ],
      "metadata": {
        "colab": {
          "base_uri": "https://localhost:8080/"
        },
        "id": "YxzIg_ot5RXd",
        "outputId": "18828884-051e-43de-e9b3-7ede8a3f99b6"
      },
      "execution_count": null,
      "outputs": [
        {
          "output_type": "stream",
          "name": "stdout",
          "text": [
            "Recall@10 (basado en usario): 0.7298280166808881\n",
            "Recall@10 (basado en productos): 0.7199675225974883\n",
            "Recall@10 (SVD): 0.7253251678567316\n",
            "Recall@10 (NMF): 0.6978109286773364\n"
          ]
        }
      ]
    },
    {
      "cell_type": "markdown",
      "source": [
        "La funcion de NDCG hace las siguientes operaciones:\n",
        "1. agrupa todas las predicciones por usario;\n",
        "2. ordena las predicciones por rating estimado descendiente;\n",
        "3. crea un vector binario de relevancia (1 si el rating real es mayor que el 4, 0 si no) para los top k items;\n",
        "4. crea un vector con los ratings estimados correspondientes a esos items;\n",
        "5. calcula el NDCG para cada usuario usando estos vectores.\n",
        "\n",
        "La metrica NDCG muestra la relevancia de los elementos devueltos por el modelo comparado con la relevancia del elemento que devolvería un modelo “ideal” hipotético."
      ],
      "metadata": {
        "id": "MK3e6psojvii"
      }
    },
    {
      "cell_type": "code",
      "source": [
        "import numpy as np\n",
        "from collections import defaultdict\n",
        "from sklearn.metrics import ndcg_score\n",
        "\n",
        "# Evaluacion recall usando ndcg_score\n",
        "def ndcg_at_k(predictions, k=10, threshold=4.0):\n",
        "    # grupa predicciones por usario\n",
        "    user_preds = defaultdict(list)\n",
        "    for uid, iid, true_r, est, _ in predictions:\n",
        "        user_preds[uid].append((iid, true_r, est))\n",
        "\n",
        "    ndcg_list = []\n",
        "    for uid, items in user_preds.items():\n",
        "        # ordena predicciones\n",
        "        items_sorted = sorted(items, key=lambda x: x[2], reverse=True)\n",
        "        top_items = items_sorted[:k]\n",
        "        n_items = len(top_items)\n",
        "\n",
        "        # crea vector binario de prediccion y vector de valores estimados\n",
        "        y_true = np.array([[1 if true_r > threshold else 0 for (_, true_r, _) in top_items]])\n",
        "        y_scores = np.array([[est for (_, _, est) in top_items]])\n",
        "\n",
        "        # si hay solo un elemento, agrega un elemento fake (0 relevancia y 0 puntuación)\n",
        "        if n_items < 2:\n",
        "            pad = 2 - n_items\n",
        "            y_true = np.concatenate([y_true, np.zeros((1, pad))], axis=1)\n",
        "            y_scores = np.concatenate([y_scores, np.zeros((1, pad))], axis=1)\n",
        "            current_k = 2\n",
        "        else:\n",
        "            current_k = n_items\n",
        "\n",
        "        # calcula NDCG\n",
        "        ndcg_value = ndcg_score(y_true, y_scores, k=current_k)\n",
        "        ndcg_list.append(ndcg_value)\n",
        "\n",
        "    return np.mean(ndcg_list)"
      ],
      "metadata": {
        "id": "nT0x_ZIM52T1"
      },
      "execution_count": null,
      "outputs": []
    },
    {
      "cell_type": "code",
      "source": [
        "ndcg_user = ndcg_at_k(predictions_user, k=K)\n",
        "ndcg_product = ndcg_at_k(predictions_product, k=K)\n",
        "ndcg_svd = ndcg_at_k(predictions_svd, k=K)\n",
        "ndcg_nmf = ndcg_at_k(predictions_nmf, k=K)\n",
        "\n",
        "print(\"NDCG@10 (basado en usario):\", ndcg_user)\n",
        "print(\"NDCG@10 (basado en productos):\", ndcg_product)\n",
        "print(\"NDCG@10 (SVD):\", ndcg_svd)\n",
        "print(\"NDCG@10 (NMF):\", ndcg_nmf)"
      ],
      "metadata": {
        "colab": {
          "base_uri": "https://localhost:8080/"
        },
        "id": "qCNbDsJ858lT",
        "outputId": "d1b8837e-957d-40a2-a1d1-914d440924e1"
      },
      "execution_count": null,
      "outputs": [
        {
          "output_type": "stream",
          "name": "stdout",
          "text": [
            "NDCG@10 (basado en usario): 0.7894041307054076\n",
            "NDCG@10 (basado en productos): 0.7664042756170181\n",
            "NDCG@10 (SVD): 0.766710880762066\n",
            "NDCG@10 (NMF): 0.7248258623159879\n"
          ]
        }
      ]
    },
    {
      "cell_type": "code",
      "source": [
        "# crear tabla consolidada de RMSE, precision, recall, ndcg\n",
        "import pandas as pd\n",
        "\n",
        "data = {'Algoritmo': ['Basado en Usuarios', 'Basado en Productos', 'SVD', 'NMF'],\n",
        "  'RMSE': [\n",
        "    rmse_user,\n",
        "    rmse_product,\n",
        "    rmse_svd,\n",
        "    rmse_nmf\n",
        "  ],\n",
        "  'Precision': [\n",
        "    precision_user,\n",
        "    precision_product,\n",
        "    precision_svd,\n",
        "    precision_nmf\n",
        "  ],\n",
        "  'Recall': [\n",
        "    recall_user,\n",
        "    recall_product,\n",
        "    recall_svd,\n",
        "    recall_nmf\n",
        "  ],\n",
        "  'NDCG': [\n",
        "    ndcg_user,\n",
        "    ndcg_product,\n",
        "    ndcg_svd,\n",
        "    ndcg_nmf\n",
        "  ]\n",
        "}\n",
        "\n",
        "df = pd.DataFrame(data)\n",
        "df"
      ],
      "metadata": {
        "colab": {
          "base_uri": "https://localhost:8080/",
          "height": 175
        },
        "id": "Lmme-iSZUuvO",
        "outputId": "3dc71770-99d1-47fa-8c5f-e42153ece8cc"
      },
      "execution_count": null,
      "outputs": [
        {
          "output_type": "execute_result",
          "data": {
            "text/plain": [
              "             Algoritmo      RMSE  Precision    Recall      NDCG\n",
              "0   Basado en Usuarios  0.713799   0.454575  0.729828  0.789404\n",
              "1  Basado en Productos  0.785114   0.445260  0.719968  0.766404\n",
              "2                  SVD  0.658330   0.451149  0.725325  0.766711\n",
              "3                  NMF  0.739817   0.423419  0.697811  0.724826"
            ],
            "text/html": [
              "\n",
              "  <div id=\"df-1bcfb4b6-683d-4919-847e-42e5ac54ee3a\" class=\"colab-df-container\">\n",
              "    <div>\n",
              "<style scoped>\n",
              "    .dataframe tbody tr th:only-of-type {\n",
              "        vertical-align: middle;\n",
              "    }\n",
              "\n",
              "    .dataframe tbody tr th {\n",
              "        vertical-align: top;\n",
              "    }\n",
              "\n",
              "    .dataframe thead th {\n",
              "        text-align: right;\n",
              "    }\n",
              "</style>\n",
              "<table border=\"1\" class=\"dataframe\">\n",
              "  <thead>\n",
              "    <tr style=\"text-align: right;\">\n",
              "      <th></th>\n",
              "      <th>Algoritmo</th>\n",
              "      <th>RMSE</th>\n",
              "      <th>Precision</th>\n",
              "      <th>Recall</th>\n",
              "      <th>NDCG</th>\n",
              "    </tr>\n",
              "  </thead>\n",
              "  <tbody>\n",
              "    <tr>\n",
              "      <th>0</th>\n",
              "      <td>Basado en Usuarios</td>\n",
              "      <td>0.713799</td>\n",
              "      <td>0.454575</td>\n",
              "      <td>0.729828</td>\n",
              "      <td>0.789404</td>\n",
              "    </tr>\n",
              "    <tr>\n",
              "      <th>1</th>\n",
              "      <td>Basado en Productos</td>\n",
              "      <td>0.785114</td>\n",
              "      <td>0.445260</td>\n",
              "      <td>0.719968</td>\n",
              "      <td>0.766404</td>\n",
              "    </tr>\n",
              "    <tr>\n",
              "      <th>2</th>\n",
              "      <td>SVD</td>\n",
              "      <td>0.658330</td>\n",
              "      <td>0.451149</td>\n",
              "      <td>0.725325</td>\n",
              "      <td>0.766711</td>\n",
              "    </tr>\n",
              "    <tr>\n",
              "      <th>3</th>\n",
              "      <td>NMF</td>\n",
              "      <td>0.739817</td>\n",
              "      <td>0.423419</td>\n",
              "      <td>0.697811</td>\n",
              "      <td>0.724826</td>\n",
              "    </tr>\n",
              "  </tbody>\n",
              "</table>\n",
              "</div>\n",
              "    <div class=\"colab-df-buttons\">\n",
              "\n",
              "  <div class=\"colab-df-container\">\n",
              "    <button class=\"colab-df-convert\" onclick=\"convertToInteractive('df-1bcfb4b6-683d-4919-847e-42e5ac54ee3a')\"\n",
              "            title=\"Convert this dataframe to an interactive table.\"\n",
              "            style=\"display:none;\">\n",
              "\n",
              "  <svg xmlns=\"http://www.w3.org/2000/svg\" height=\"24px\" viewBox=\"0 -960 960 960\">\n",
              "    <path d=\"M120-120v-720h720v720H120Zm60-500h600v-160H180v160Zm220 220h160v-160H400v160Zm0 220h160v-160H400v160ZM180-400h160v-160H180v160Zm440 0h160v-160H620v160ZM180-180h160v-160H180v160Zm440 0h160v-160H620v160Z\"/>\n",
              "  </svg>\n",
              "    </button>\n",
              "\n",
              "  <style>\n",
              "    .colab-df-container {\n",
              "      display:flex;\n",
              "      gap: 12px;\n",
              "    }\n",
              "\n",
              "    .colab-df-convert {\n",
              "      background-color: #E8F0FE;\n",
              "      border: none;\n",
              "      border-radius: 50%;\n",
              "      cursor: pointer;\n",
              "      display: none;\n",
              "      fill: #1967D2;\n",
              "      height: 32px;\n",
              "      padding: 0 0 0 0;\n",
              "      width: 32px;\n",
              "    }\n",
              "\n",
              "    .colab-df-convert:hover {\n",
              "      background-color: #E2EBFA;\n",
              "      box-shadow: 0px 1px 2px rgba(60, 64, 67, 0.3), 0px 1px 3px 1px rgba(60, 64, 67, 0.15);\n",
              "      fill: #174EA6;\n",
              "    }\n",
              "\n",
              "    .colab-df-buttons div {\n",
              "      margin-bottom: 4px;\n",
              "    }\n",
              "\n",
              "    [theme=dark] .colab-df-convert {\n",
              "      background-color: #3B4455;\n",
              "      fill: #D2E3FC;\n",
              "    }\n",
              "\n",
              "    [theme=dark] .colab-df-convert:hover {\n",
              "      background-color: #434B5C;\n",
              "      box-shadow: 0px 1px 3px 1px rgba(0, 0, 0, 0.15);\n",
              "      filter: drop-shadow(0px 1px 2px rgba(0, 0, 0, 0.3));\n",
              "      fill: #FFFFFF;\n",
              "    }\n",
              "  </style>\n",
              "\n",
              "    <script>\n",
              "      const buttonEl =\n",
              "        document.querySelector('#df-1bcfb4b6-683d-4919-847e-42e5ac54ee3a button.colab-df-convert');\n",
              "      buttonEl.style.display =\n",
              "        google.colab.kernel.accessAllowed ? 'block' : 'none';\n",
              "\n",
              "      async function convertToInteractive(key) {\n",
              "        const element = document.querySelector('#df-1bcfb4b6-683d-4919-847e-42e5ac54ee3a');\n",
              "        const dataTable =\n",
              "          await google.colab.kernel.invokeFunction('convertToInteractive',\n",
              "                                                    [key], {});\n",
              "        if (!dataTable) return;\n",
              "\n",
              "        const docLinkHtml = 'Like what you see? Visit the ' +\n",
              "          '<a target=\"_blank\" href=https://colab.research.google.com/notebooks/data_table.ipynb>data table notebook</a>'\n",
              "          + ' to learn more about interactive tables.';\n",
              "        element.innerHTML = '';\n",
              "        dataTable['output_type'] = 'display_data';\n",
              "        await google.colab.output.renderOutput(dataTable, element);\n",
              "        const docLink = document.createElement('div');\n",
              "        docLink.innerHTML = docLinkHtml;\n",
              "        element.appendChild(docLink);\n",
              "      }\n",
              "    </script>\n",
              "  </div>\n",
              "\n",
              "\n",
              "<div id=\"df-02e24f9a-c2a2-466b-8001-13d12c4929e6\">\n",
              "  <button class=\"colab-df-quickchart\" onclick=\"quickchart('df-02e24f9a-c2a2-466b-8001-13d12c4929e6')\"\n",
              "            title=\"Suggest charts\"\n",
              "            style=\"display:none;\">\n",
              "\n",
              "<svg xmlns=\"http://www.w3.org/2000/svg\" height=\"24px\"viewBox=\"0 0 24 24\"\n",
              "     width=\"24px\">\n",
              "    <g>\n",
              "        <path d=\"M19 3H5c-1.1 0-2 .9-2 2v14c0 1.1.9 2 2 2h14c1.1 0 2-.9 2-2V5c0-1.1-.9-2-2-2zM9 17H7v-7h2v7zm4 0h-2V7h2v10zm4 0h-2v-4h2v4z\"/>\n",
              "    </g>\n",
              "</svg>\n",
              "  </button>\n",
              "\n",
              "<style>\n",
              "  .colab-df-quickchart {\n",
              "      --bg-color: #E8F0FE;\n",
              "      --fill-color: #1967D2;\n",
              "      --hover-bg-color: #E2EBFA;\n",
              "      --hover-fill-color: #174EA6;\n",
              "      --disabled-fill-color: #AAA;\n",
              "      --disabled-bg-color: #DDD;\n",
              "  }\n",
              "\n",
              "  [theme=dark] .colab-df-quickchart {\n",
              "      --bg-color: #3B4455;\n",
              "      --fill-color: #D2E3FC;\n",
              "      --hover-bg-color: #434B5C;\n",
              "      --hover-fill-color: #FFFFFF;\n",
              "      --disabled-bg-color: #3B4455;\n",
              "      --disabled-fill-color: #666;\n",
              "  }\n",
              "\n",
              "  .colab-df-quickchart {\n",
              "    background-color: var(--bg-color);\n",
              "    border: none;\n",
              "    border-radius: 50%;\n",
              "    cursor: pointer;\n",
              "    display: none;\n",
              "    fill: var(--fill-color);\n",
              "    height: 32px;\n",
              "    padding: 0;\n",
              "    width: 32px;\n",
              "  }\n",
              "\n",
              "  .colab-df-quickchart:hover {\n",
              "    background-color: var(--hover-bg-color);\n",
              "    box-shadow: 0 1px 2px rgba(60, 64, 67, 0.3), 0 1px 3px 1px rgba(60, 64, 67, 0.15);\n",
              "    fill: var(--button-hover-fill-color);\n",
              "  }\n",
              "\n",
              "  .colab-df-quickchart-complete:disabled,\n",
              "  .colab-df-quickchart-complete:disabled:hover {\n",
              "    background-color: var(--disabled-bg-color);\n",
              "    fill: var(--disabled-fill-color);\n",
              "    box-shadow: none;\n",
              "  }\n",
              "\n",
              "  .colab-df-spinner {\n",
              "    border: 2px solid var(--fill-color);\n",
              "    border-color: transparent;\n",
              "    border-bottom-color: var(--fill-color);\n",
              "    animation:\n",
              "      spin 1s steps(1) infinite;\n",
              "  }\n",
              "\n",
              "  @keyframes spin {\n",
              "    0% {\n",
              "      border-color: transparent;\n",
              "      border-bottom-color: var(--fill-color);\n",
              "      border-left-color: var(--fill-color);\n",
              "    }\n",
              "    20% {\n",
              "      border-color: transparent;\n",
              "      border-left-color: var(--fill-color);\n",
              "      border-top-color: var(--fill-color);\n",
              "    }\n",
              "    30% {\n",
              "      border-color: transparent;\n",
              "      border-left-color: var(--fill-color);\n",
              "      border-top-color: var(--fill-color);\n",
              "      border-right-color: var(--fill-color);\n",
              "    }\n",
              "    40% {\n",
              "      border-color: transparent;\n",
              "      border-right-color: var(--fill-color);\n",
              "      border-top-color: var(--fill-color);\n",
              "    }\n",
              "    60% {\n",
              "      border-color: transparent;\n",
              "      border-right-color: var(--fill-color);\n",
              "    }\n",
              "    80% {\n",
              "      border-color: transparent;\n",
              "      border-right-color: var(--fill-color);\n",
              "      border-bottom-color: var(--fill-color);\n",
              "    }\n",
              "    90% {\n",
              "      border-color: transparent;\n",
              "      border-bottom-color: var(--fill-color);\n",
              "    }\n",
              "  }\n",
              "</style>\n",
              "\n",
              "  <script>\n",
              "    async function quickchart(key) {\n",
              "      const quickchartButtonEl =\n",
              "        document.querySelector('#' + key + ' button');\n",
              "      quickchartButtonEl.disabled = true;  // To prevent multiple clicks.\n",
              "      quickchartButtonEl.classList.add('colab-df-spinner');\n",
              "      try {\n",
              "        const charts = await google.colab.kernel.invokeFunction(\n",
              "            'suggestCharts', [key], {});\n",
              "      } catch (error) {\n",
              "        console.error('Error during call to suggestCharts:', error);\n",
              "      }\n",
              "      quickchartButtonEl.classList.remove('colab-df-spinner');\n",
              "      quickchartButtonEl.classList.add('colab-df-quickchart-complete');\n",
              "    }\n",
              "    (() => {\n",
              "      let quickchartButtonEl =\n",
              "        document.querySelector('#df-02e24f9a-c2a2-466b-8001-13d12c4929e6 button');\n",
              "      quickchartButtonEl.style.display =\n",
              "        google.colab.kernel.accessAllowed ? 'block' : 'none';\n",
              "    })();\n",
              "  </script>\n",
              "</div>\n",
              "\n",
              "  <div id=\"id_bc6047d6-7770-4598-b8f7-8b144823be3f\">\n",
              "    <style>\n",
              "      .colab-df-generate {\n",
              "        background-color: #E8F0FE;\n",
              "        border: none;\n",
              "        border-radius: 50%;\n",
              "        cursor: pointer;\n",
              "        display: none;\n",
              "        fill: #1967D2;\n",
              "        height: 32px;\n",
              "        padding: 0 0 0 0;\n",
              "        width: 32px;\n",
              "      }\n",
              "\n",
              "      .colab-df-generate:hover {\n",
              "        background-color: #E2EBFA;\n",
              "        box-shadow: 0px 1px 2px rgba(60, 64, 67, 0.3), 0px 1px 3px 1px rgba(60, 64, 67, 0.15);\n",
              "        fill: #174EA6;\n",
              "      }\n",
              "\n",
              "      [theme=dark] .colab-df-generate {\n",
              "        background-color: #3B4455;\n",
              "        fill: #D2E3FC;\n",
              "      }\n",
              "\n",
              "      [theme=dark] .colab-df-generate:hover {\n",
              "        background-color: #434B5C;\n",
              "        box-shadow: 0px 1px 3px 1px rgba(0, 0, 0, 0.15);\n",
              "        filter: drop-shadow(0px 1px 2px rgba(0, 0, 0, 0.3));\n",
              "        fill: #FFFFFF;\n",
              "      }\n",
              "    </style>\n",
              "    <button class=\"colab-df-generate\" onclick=\"generateWithVariable('df')\"\n",
              "            title=\"Generate code using this dataframe.\"\n",
              "            style=\"display:none;\">\n",
              "\n",
              "  <svg xmlns=\"http://www.w3.org/2000/svg\" height=\"24px\"viewBox=\"0 0 24 24\"\n",
              "       width=\"24px\">\n",
              "    <path d=\"M7,19H8.4L18.45,9,17,7.55,7,17.6ZM5,21V16.75L18.45,3.32a2,2,0,0,1,2.83,0l1.4,1.43a1.91,1.91,0,0,1,.58,1.4,1.91,1.91,0,0,1-.58,1.4L9.25,21ZM18.45,9,17,7.55Zm-12,3A5.31,5.31,0,0,0,4.9,8.1,5.31,5.31,0,0,0,1,6.5,5.31,5.31,0,0,0,4.9,4.9,5.31,5.31,0,0,0,6.5,1,5.31,5.31,0,0,0,8.1,4.9,5.31,5.31,0,0,0,12,6.5,5.46,5.46,0,0,0,6.5,12Z\"/>\n",
              "  </svg>\n",
              "    </button>\n",
              "    <script>\n",
              "      (() => {\n",
              "      const buttonEl =\n",
              "        document.querySelector('#id_bc6047d6-7770-4598-b8f7-8b144823be3f button.colab-df-generate');\n",
              "      buttonEl.style.display =\n",
              "        google.colab.kernel.accessAllowed ? 'block' : 'none';\n",
              "\n",
              "      buttonEl.onclick = () => {\n",
              "        google.colab.notebook.generateWithVariable('df');\n",
              "      }\n",
              "      })();\n",
              "    </script>\n",
              "  </div>\n",
              "\n",
              "    </div>\n",
              "  </div>\n"
            ],
            "application/vnd.google.colaboratory.intrinsic+json": {
              "type": "dataframe",
              "variable_name": "df",
              "summary": "{\n  \"name\": \"df\",\n  \"rows\": 4,\n  \"fields\": [\n    {\n      \"column\": \"Algoritmo\",\n      \"properties\": {\n        \"dtype\": \"string\",\n        \"num_unique_values\": 4,\n        \"samples\": [\n          \"Basado en Productos\",\n          \"NMF\",\n          \"Basado en Usuarios\"\n        ],\n        \"semantic_type\": \"\",\n        \"description\": \"\"\n      }\n    },\n    {\n      \"column\": \"RMSE\",\n      \"properties\": {\n        \"dtype\": \"number\",\n        \"std\": 0.05291952991395878,\n        \"min\": 0.6583300735679251,\n        \"max\": 0.7851140442433097,\n        \"num_unique_values\": 4,\n        \"samples\": [\n          0.7851140442433097,\n          0.7398170021145719,\n          0.7137986510541066\n        ],\n        \"semantic_type\": \"\",\n        \"description\": \"\"\n      }\n    },\n    {\n      \"column\": \"Precision\",\n      \"properties\": {\n        \"dtype\": \"number\",\n        \"std\": 0.013993784905603657,\n        \"min\": 0.42341864654498484,\n        \"max\": 0.45457496346147314,\n        \"num_unique_values\": 4,\n        \"samples\": [\n          0.44526018830087355,\n          0.42341864654498484,\n          0.45457496346147314\n        ],\n        \"semantic_type\": \"\",\n        \"description\": \"\"\n      }\n    },\n    {\n      \"column\": \"Recall\",\n      \"properties\": {\n        \"dtype\": \"number\",\n        \"std\": 0.014198741991858877,\n        \"min\": 0.6978109286773364,\n        \"max\": 0.7298280166808881,\n        \"num_unique_values\": 4,\n        \"samples\": [\n          0.7199675225974883,\n          0.6978109286773364,\n          0.7298280166808881\n        ],\n        \"semantic_type\": \"\",\n        \"description\": \"\"\n      }\n    },\n    {\n      \"column\": \"NDCG\",\n      \"properties\": {\n        \"dtype\": \"number\",\n        \"std\": 0.02692202150784801,\n        \"min\": 0.7248258623159879,\n        \"max\": 0.7894041307054076,\n        \"num_unique_values\": 4,\n        \"samples\": [\n          0.7664042756170181,\n          0.7248258623159879,\n          0.7894041307054076\n        ],\n        \"semantic_type\": \"\",\n        \"description\": \"\"\n      }\n    }\n  ]\n}"
            }
          },
          "metadata": {},
          "execution_count": 24
        }
      ]
    },
    {
      "cell_type": "markdown",
      "source": [
        "Análisis de los resultados:\n",
        "\n",
        "Basado en Usuarios\n",
        "- En general, sobresale en las metricas de recomendacion (precision, recall y NDCG), aunque no es el mejor en RMSE.\n",
        "\n",
        "Basado en Productos\n",
        "- En general, funciona algo peor que el basado en usuarios en todas las metricas.\n",
        "\n",
        "SVD\n",
        "- Es buena para predecir la calificacion numerica (menor RMSE), pero su ranking (NDCG) no es el mas alto.\n",
        "\n",
        "NMF\n",
        "- En general, es el metodo que rinde peor en estas metricas comparado con los otros tres.\n",
        "\n",
        "Conclusiones:\n",
        "\n",
        "Si la prioridad es la exactitud numerica de las predicciones (que el sistema acierte con la calificacion lo mas cerca posible a la real), el mejor es SVD porque tiene el RMSE mas bajo.\n",
        "\n",
        "Si la prioridad es la calidad de la recomendacion en terminos de relevancia (cantidad de items que realmente le gustan al usario), en este caso KNNBasic basado en Usuarios es superior (mejor precisión, recall y NDCG).\n",
        "\n",
        "Dado que en la mayoría de escenarios de recomendacion se valoran mas las metricas de relevancia (precision, recall, NDCG) que la exactitud absoluta de, el metodo basado en usuarios puede ser la mejor eleccion global entre los algoritmos presentados."
      ],
      "metadata": {
        "id": "OPL_dLB0VbLw"
      }
    }
  ]
}