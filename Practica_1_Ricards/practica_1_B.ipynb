{
  "nbformat": 4,
  "nbformat_minor": 0,
  "metadata": {
    "colab": {
      "provenance": []
    },
    "kernelspec": {
      "name": "python3",
      "display_name": "Python 3"
    },
    "language_info": {
      "name": "python"
    }
  },
  "cells": [
    {
      "cell_type": "markdown",
      "source": [
        "# Practica 1\n",
        "\n",
        "## Parte B\n",
        "\n",
        "### Ejercicio 1:\n",
        "\n",
        "Instalamos el dataset \"ml-100k\" (ya esta incluido con la libreria scikit-surprise)."
      ],
      "metadata": {
        "id": "dwmeHG0fk1v2"
      }
    },
    {
      "cell_type": "code",
      "source": [
        "pip install scikit-surprise"
      ],
      "metadata": {
        "colab": {
          "base_uri": "https://localhost:8080/"
        },
        "id": "mtlwGsTBqH0I",
        "outputId": "defa3a2e-941d-4e6a-ee9e-4ae589c82a7d"
      },
      "execution_count": 1,
      "outputs": [
        {
          "output_type": "stream",
          "name": "stdout",
          "text": [
            "Collecting scikit-surprise\n",
            "  Downloading scikit_surprise-1.1.4.tar.gz (154 kB)\n",
            "\u001b[?25l     \u001b[90m━━━━━━━━━━━━━━━━━━━━━━━━━━━━━━━━━━━━━━━━\u001b[0m \u001b[32m0.0/154.4 kB\u001b[0m \u001b[31m?\u001b[0m eta \u001b[36m-:--:--\u001b[0m\r\u001b[2K     \u001b[91m━━━━━━━━━━━━━━━━━━━━━━━━━━━━━━━━━━━━━━━\u001b[0m\u001b[91m╸\u001b[0m \u001b[32m153.6/154.4 kB\u001b[0m \u001b[31m4.4 MB/s\u001b[0m eta \u001b[36m0:00:01\u001b[0m\r\u001b[2K     \u001b[90m━━━━━━━━━━━━━━━━━━━━━━━━━━━━━━━━━━━━━━━━\u001b[0m \u001b[32m154.4/154.4 kB\u001b[0m \u001b[31m2.4 MB/s\u001b[0m eta \u001b[36m0:00:00\u001b[0m\n",
            "\u001b[?25h  Installing build dependencies ... \u001b[?25l\u001b[?25hdone\n",
            "  Getting requirements to build wheel ... \u001b[?25l\u001b[?25hdone\n",
            "  Preparing metadata (pyproject.toml) ... \u001b[?25l\u001b[?25hdone\n",
            "Requirement already satisfied: joblib>=1.2.0 in /usr/local/lib/python3.11/dist-packages (from scikit-surprise) (1.4.2)\n",
            "Requirement already satisfied: numpy>=1.19.5 in /usr/local/lib/python3.11/dist-packages (from scikit-surprise) (1.26.4)\n",
            "Requirement already satisfied: scipy>=1.6.0 in /usr/local/lib/python3.11/dist-packages (from scikit-surprise) (1.13.1)\n",
            "Building wheels for collected packages: scikit-surprise\n",
            "  Building wheel for scikit-surprise (pyproject.toml) ... \u001b[?25l\u001b[?25hdone\n",
            "  Created wheel for scikit-surprise: filename=scikit_surprise-1.1.4-cp311-cp311-linux_x86_64.whl size=2505177 sha256=283b774b4686969eb3055d4891d9f56ec416df84e9e26aac51c0a90f017d3366\n",
            "  Stored in directory: /root/.cache/pip/wheels/2a/8f/6e/7e2899163e2d85d8266daab4aa1cdabec7a6c56f83c015b5af\n",
            "Successfully built scikit-surprise\n",
            "Installing collected packages: scikit-surprise\n",
            "Successfully installed scikit-surprise-1.1.4\n"
          ]
        }
      ]
    },
    {
      "cell_type": "code",
      "execution_count": 2,
      "metadata": {
        "id": "Au3L_8TiiVpT"
      },
      "outputs": [],
      "source": [
        "import os\n",
        "import pandas as pd\n",
        "import numpy as np\n",
        "\n",
        "# Variable SEED, para que cada vez que se ejecute el código salgan los mismos resultados\n",
        "SEED = 123"
      ]
    },
    {
      "cell_type": "code",
      "source": [
        "# Cargar movielens-100k dataset\n",
        "from surprise import Dataset\n",
        "\n",
        "data = Dataset.load_builtin(\"ml-100k\")"
      ],
      "metadata": {
        "id": "83uH2x4PsmrB",
        "colab": {
          "base_uri": "https://localhost:8080/"
        },
        "outputId": "ec9d4e62-d410-47d6-f74b-dfdbdd663c49"
      },
      "execution_count": 3,
      "outputs": [
        {
          "output_type": "stream",
          "name": "stdout",
          "text": [
            "Dataset ml-100k could not be found. Do you want to download it? [Y/n] y\n",
            "Trying to download dataset from https://files.grouplens.org/datasets/movielens/ml-100k.zip...\n",
            "Done! Dataset ml-100k has been saved to /root/.surprise_data/ml-100k\n"
          ]
        }
      ]
    },
    {
      "cell_type": "markdown",
      "source": [
        "### Ejercicio 2:\n",
        "\n",
        "surprise tiene funcion **train_test_split** que acepta datos de entrada y se puede especificar que fraccion de datos vamos a usar para la evaluacion."
      ],
      "metadata": {
        "id": "8_wa2dvCrwnZ"
      }
    },
    {
      "cell_type": "code",
      "source": [
        "# Dividir data en particiones de entrenamiento (75%) y evaluacion (25%)\n",
        "from surprise.model_selection import train_test_split\n",
        "\n",
        "trainset, testset = train_test_split(data, test_size=0.25, random_state=SEED)"
      ],
      "metadata": {
        "id": "thZ8RX6TrKfJ"
      },
      "execution_count": 45,
      "outputs": []
    },
    {
      "cell_type": "markdown",
      "source": [
        "### Ejercicio 3/4:\n",
        "\n",
        "En primer caso, utilizamos KNNBasic con la metrica de similtud pearson para realizar filtrado colaborativo basado en vecinos. KNN es un clasificador de aprendizaje supervisado no paramétrico que utiliza la proximidad para realizar predicciones sobre la agrupación de un punto de datos individual.\n",
        "\n",
        "Primer caso es basado en usarios."
      ],
      "metadata": {
        "id": "0S-Qae5-thx8"
      }
    },
    {
      "cell_type": "code",
      "source": [
        "# Filtrado KNNBasic basado en usarios\n",
        "from surprise import KNNBasic\n",
        "from surprise.model_selection.validation import cross_validate\n",
        "\n",
        "knn_basic_user = KNNBasic(sim_options={\"name\": \"pearson\", \"user_based\": True}, random_state=SEED)\n",
        "knn_basic_user.fit(trainset)"
      ],
      "metadata": {
        "colab": {
          "base_uri": "https://localhost:8080/"
        },
        "id": "AeZinjoCtjhy",
        "outputId": "17eec4ca-1a41-429a-be3f-3919410d56d6"
      },
      "execution_count": 46,
      "outputs": [
        {
          "output_type": "stream",
          "name": "stdout",
          "text": [
            "Computing the pearson similarity matrix...\n",
            "Done computing similarity matrix.\n"
          ]
        },
        {
          "output_type": "execute_result",
          "data": {
            "text/plain": [
              "<surprise.prediction_algorithms.knns.KNNBasic at 0x7f869b1b7150>"
            ]
          },
          "metadata": {},
          "execution_count": 46
        }
      ]
    },
    {
      "cell_type": "markdown",
      "source": [
        "En segundo caso, todavia utilizamos KNNBasic sino en este caso para filtrado basado en productos."
      ],
      "metadata": {
        "id": "txLJRiPRZIkV"
      }
    },
    {
      "cell_type": "code",
      "source": [
        "# Filtrado KNNBasic basado en productos\n",
        "from surprise import KNNBasic\n",
        "\n",
        "knn_basic_product = KNNBasic(sim_options={\"name\": \"pearson\", \"user_based\": False}, random_state=SEED)\n",
        "knn_basic_product.fit(trainset)"
      ],
      "metadata": {
        "colab": {
          "base_uri": "https://localhost:8080/"
        },
        "id": "-mg80p-ju51S",
        "outputId": "c84bddcc-74d6-4bbc-b629-212a2d44efd5"
      },
      "execution_count": 47,
      "outputs": [
        {
          "output_type": "stream",
          "name": "stdout",
          "text": [
            "Computing the pearson similarity matrix...\n",
            "Done computing similarity matrix.\n"
          ]
        },
        {
          "output_type": "execute_result",
          "data": {
            "text/plain": [
              "<surprise.prediction_algorithms.knns.KNNBasic at 0x7f8690353510>"
            ]
          },
          "metadata": {},
          "execution_count": 47
        }
      ]
    },
    {
      "cell_type": "markdown",
      "source": [
        "En la otra parte, utilizamos SVD y NMF para realizar filtrado colaborativo basado en modelos usando factorización de matrices.\n",
        "\n",
        "En primer caso, utilizamos SVD. La idea de este algoritmo es hacer operaciones de algebra lineal - factorización de una matriz real o compleja en una rotación, seguida de un reescalado seguido de otra rotación."
      ],
      "metadata": {
        "id": "EvbEMlKhZSDo"
      }
    },
    {
      "cell_type": "code",
      "source": [
        "# Filtrado colaborativo SVD\n",
        "from surprise import SVD\n",
        "\n",
        "svd = SVD(random_state=SEED)\n",
        "svd.fit(trainset)"
      ],
      "metadata": {
        "colab": {
          "base_uri": "https://localhost:8080/"
        },
        "id": "_N29n6WEzxft",
        "outputId": "b5e68df6-d43e-4136-beae-18fe3bd3494a"
      },
      "execution_count": 48,
      "outputs": [
        {
          "output_type": "execute_result",
          "data": {
            "text/plain": [
              "<surprise.prediction_algorithms.matrix_factorization.SVD at 0x7f869096b4d0>"
            ]
          },
          "metadata": {},
          "execution_count": 48
        }
      ]
    },
    {
      "cell_type": "markdown",
      "source": [
        "En segundo caso, utilizamos NMF. La factorización de matrices no negativas es un algoritmo en el que una matriz se factoriza en otras dos matrices con la propiedad de que las tres matrices no tienen elementos negativos. Esta no negatividad hace que las matrices resultantes sean más fáciles de verificar."
      ],
      "metadata": {
        "id": "YVwU_KRFbXPv"
      }
    },
    {
      "cell_type": "code",
      "source": [
        "# Filtrado colaborativo NMF\n",
        "from surprise import NMF\n",
        "\n",
        "nmf = NMF(random_state=SEED)\n",
        "nmf.fit(trainset)"
      ],
      "metadata": {
        "colab": {
          "base_uri": "https://localhost:8080/"
        },
        "id": "dr6qv7QK0OMR",
        "outputId": "2f6368a9-fc04-437b-cc0d-d60427dd1975"
      },
      "execution_count": 49,
      "outputs": [
        {
          "output_type": "execute_result",
          "data": {
            "text/plain": [
              "<surprise.prediction_algorithms.matrix_factorization.NMF at 0x7f869b3d38d0>"
            ]
          },
          "metadata": {},
          "execution_count": 49
        }
      ]
    },
    {
      "cell_type": "markdown",
      "source": [
        "### Ejercicio 5:\n",
        "\n",
        "Cuando tenemos todos algoritmos entrenados, utlizamos funcion **test** con cada de los algoritmos y le pasamos datos de evaluacion. Pero antes de eso, es importante asegurar que datos de testset son limpios y utiles."
      ],
      "metadata": {
        "id": "Lp7_HEKr05g5"
      }
    },
    {
      "cell_type": "code",
      "source": [
        "# Hacer predicciones para conjunto de evaluacion con cada algoritmo\n",
        "from surprise import accuracy\n",
        "\n",
        "predictions_user = knn_basic_user.test(testset)\n",
        "predictions_product = knn_basic_product.test(testset)\n",
        "predictions_svd = svd.test(testset)\n",
        "predictions_nmf = nmf.test(testset)\n",
        "\n",
        "# Mostrar 5 resultados de cada predicciones\n",
        "N = 5\n",
        "\n",
        "res_user = predictions_user[:N]\n",
        "res_product = predictions_product[:N]\n",
        "res_svd = predictions_svd[:N]\n",
        "res_nmf = predictions_nmf[:N]\n",
        "\n",
        "from pprint import pprint\n",
        "\n",
        "print(\"FILTRADO BASADO EN USUARIOS\")\n",
        "pprint(res_user)\n",
        "print()\n",
        "print(\"FILTRADO BASADO EN PRODUCTOS\")\n",
        "pprint(res_product)\n",
        "print()\n",
        "print(\"FILTRADO COLLABORATIVO SVD\")\n",
        "pprint(res_svd)\n",
        "print()\n",
        "print(\"FILTRADO COLLABORATIVO NMF\")\n",
        "pprint(res_nmf)\n",
        "print()"
      ],
      "metadata": {
        "colab": {
          "base_uri": "https://localhost:8080/"
        },
        "id": "75Ry1gWR1C-j",
        "outputId": "c996d2ff-bd2f-4c1a-fd83-a989c607aeed"
      },
      "execution_count": 50,
      "outputs": [
        {
          "output_type": "stream",
          "name": "stdout",
          "text": [
            "FILTRADO BASADO EN USUARIOS\n",
            "[Prediction(uid='798', iid='480', r_ui=3.0, est=4.220708572354324, details={'actual_k': 40, 'was_impossible': False}),\n",
            " Prediction(uid='296', iid='462', r_ui=4.0, est=3.860840081088127, details={'actual_k': 40, 'was_impossible': False}),\n",
            " Prediction(uid='653', iid='258', r_ui=3.0, est=3.88914154911376, details={'actual_k': 40, 'was_impossible': False}),\n",
            " Prediction(uid='883', iid='239', r_ui=3.0, est=3.5412030693605168, details={'actual_k': 40, 'was_impossible': False}),\n",
            " Prediction(uid='272', iid='187', r_ui=5.0, est=4.255937339224406, details={'actual_k': 40, 'was_impossible': False})]\n",
            "\n",
            "FILTRADO BASADO EN PRODUCTOS\n",
            "[Prediction(uid='798', iid='480', r_ui=3.0, est=3.2132150484522715, details={'actual_k': 40, 'was_impossible': False}),\n",
            " Prediction(uid='296', iid='462', r_ui=4.0, est=4.292899057345213, details={'actual_k': 40, 'was_impossible': False}),\n",
            " Prediction(uid='653', iid='258', r_ui=3.0, est=2.2120393116387986, details={'actual_k': 40, 'was_impossible': False}),\n",
            " Prediction(uid='883', iid='239', r_ui=3.0, est=3.9742453455737103, details={'actual_k': 40, 'was_impossible': False}),\n",
            " Prediction(uid='272', iid='187', r_ui=5.0, est=4.540242653517212, details={'actual_k': 26, 'was_impossible': False})]\n",
            "\n",
            "FILTRADO COLLABORATIVO SVD\n",
            "[Prediction(uid='798', iid='480', r_ui=3.0, est=4.408613585112021, details={'was_impossible': False}),\n",
            " Prediction(uid='296', iid='462', r_ui=4.0, est=4.280542444743838, details={'was_impossible': False}),\n",
            " Prediction(uid='653', iid='258', r_ui=3.0, est=3.2228537961125565, details={'was_impossible': False}),\n",
            " Prediction(uid='883', iid='239', r_ui=3.0, est=3.3335860547064664, details={'was_impossible': False}),\n",
            " Prediction(uid='272', iid='187', r_ui=5.0, est=4.590204347338164, details={'was_impossible': False})]\n",
            "\n",
            "FILTRADO COLLABORATIVO NMF\n",
            "[Prediction(uid='798', iid='480', r_ui=3.0, est=4.450082006248922, details={'was_impossible': False}),\n",
            " Prediction(uid='296', iid='462', r_ui=4.0, est=4.1677644945131584, details={'was_impossible': False}),\n",
            " Prediction(uid='653', iid='258', r_ui=3.0, est=2.9252152884646185, details={'was_impossible': False}),\n",
            " Prediction(uid='883', iid='239', r_ui=3.0, est=3.4827559264939927, details={'was_impossible': False}),\n",
            " Prediction(uid='272', iid='187', r_ui=5.0, est=4.298096651300963, details={'was_impossible': False})]\n",
            "\n"
          ]
        }
      ]
    },
    {
      "cell_type": "markdown",
      "source": [
        "En cada de las predicciones, podemos ver atributos \"est\" y \"r_ui\" que nos interesan mas. Est nos muestra la valor prediccionada (estimada) comparando con la referencia (r_ui). Estos datos nos dan la primera impresion de la calidad de predicciones de cada algoritmo.\n",
        "\n",
        "### Ejercicio 6:\n",
        "\n",
        "En esta parte obtenemos difetentes metrics estadisticos para evaluar cada modelo y hacer conclusiones. Empezamos por RMSE, usando la funcion **accuracy** de surprise."
      ],
      "metadata": {
        "id": "z63YE0S13BQS"
      }
    },
    {
      "cell_type": "code",
      "source": [
        "from surprise import accuracy\n",
        "\n",
        "# Evaluacion RMSE\n",
        "rmse_user = accuracy.rmse(predictions_user, verbose=True)\n",
        "rmse_product = accuracy.rmse(predictions_product, verbose=True)\n",
        "rmse_svd = accuracy.rmse(predictions_svd, verbose=True)\n",
        "rmse_nmf = accuracy.rmse(predictions_nmf, verbose=True)"
      ],
      "metadata": {
        "colab": {
          "base_uri": "https://localhost:8080/"
        },
        "id": "bJR8O8sS30eD",
        "outputId": "b12265c8-1cb2-4a3a-8741-fc5ff09bf8d4"
      },
      "execution_count": 51,
      "outputs": [
        {
          "output_type": "stream",
          "name": "stdout",
          "text": [
            "RMSE: 1.0116\n",
            "RMSE: 1.0361\n",
            "RMSE: 0.9322\n",
            "RMSE: 0.9655\n"
          ]
        }
      ]
    },
    {
      "cell_type": "markdown",
      "source": [
        "La funcion siguiente hace numerosas operaciones para obtener precision:\n",
        "1. agrupa todas las predicciones por usario (para que si queremos introducir precision@k, lo podemos hacer mas facilmente);\n",
        "2. para cada usario, ordena los items por el rating prediccionado;\n",
        "3. crea un vector de valores verdaderos en el que cada item se considera relevante si su rating real es mayor a 4;\n",
        "4. calcula la precision usando precision_score de sklrean para cada usuario.\n",
        "\n",
        "Precision es util porque nos muestra la fraccion de instancias relevantes entre las instancias recuperadas."
      ],
      "metadata": {
        "id": "xF_magGZg1FB"
      }
    },
    {
      "cell_type": "code",
      "source": [
        "# Evaluacion precision usando precision_score\n",
        "import numpy as np\n",
        "from sklearn.metrics import precision_score\n",
        "from collections import defaultdict\n",
        "\n",
        "def precision(predictions, threshold=4.0):\n",
        "    # grupa predicciones por usario\n",
        "    user_preds = defaultdict(list)\n",
        "    for uid, iid, true_r, est, _ in predictions:\n",
        "        user_preds[uid].append((iid, true_r, est))\n",
        "\n",
        "    precisions = []\n",
        "    for uid, preds in user_preds.items():\n",
        "        # ordena predicciones\n",
        "        preds_sorted = sorted(preds, key=lambda x: x[2], reverse=True)\n",
        "        n = len(preds_sorted)\n",
        "\n",
        "        # crea vector binario de prediccion (relevante = 1, irrelevante = 0).\n",
        "        y_true = np.array([1 if true_r >= threshold else 0 for (_, true_r, _) in preds_sorted])\n",
        "        y_pred = np.array([1 if est >= threshold else 0 for (_, _, est) in preds_sorted])\n",
        "\n",
        "        # calcula precision\n",
        "        prec = precision_score(y_true, y_pred, zero_division=0)\n",
        "        precisions.append(prec)\n",
        "\n",
        "    return np.mean(precisions)"
      ],
      "metadata": {
        "id": "SUBgl5ua20lR"
      },
      "execution_count": 52,
      "outputs": []
    },
    {
      "cell_type": "code",
      "source": [
        "# obtenemos los valores de precision\n",
        "precision_user = precision(predictions_user)\n",
        "precision_product = precision(predictions_product)\n",
        "precision_svd = precision(predictions_svd)\n",
        "precision_nmf = precision(predictions_nmf)\n",
        "\n",
        "print(\"Precision@10 (basado en usario):\", precision_user)\n",
        "print(\"Precision@10 (basado en productos):\", precision_product)\n",
        "print(\"Precision@10 (SVD):\", precision_svd)\n",
        "print(\"Precision@10 (NMF):\", precision_nmf)"
      ],
      "metadata": {
        "colab": {
          "base_uri": "https://localhost:8080/"
        },
        "id": "nutxW1JL3HMt",
        "outputId": "9584f4e1-43d0-4b35-b7a1-64f103fa0e91"
      },
      "execution_count": 53,
      "outputs": [
        {
          "output_type": "stream",
          "name": "stdout",
          "text": [
            "Precision@10 (basado en usario): 0.6695960573997044\n",
            "Precision@10 (basado en productos): 0.33585736148861295\n",
            "Precision@10 (SVD): 0.6344181404352349\n",
            "Precision@10 (NMF): 0.6268556199863577\n"
          ]
        }
      ]
    },
    {
      "cell_type": "markdown",
      "source": [
        "En la funcion **recall** la preparacion es parecida a la de **precision**, sino al final utilizamos recall_score para obtener recall. La metrica de recall muestra la fraccion de instancias relevantes que se recuperaron."
      ],
      "metadata": {
        "id": "zU6JOxasiSOe"
      }
    },
    {
      "cell_type": "code",
      "source": [
        "import numpy as np\n",
        "from collections import defaultdict\n",
        "from sklearn.metrics import recall_score\n",
        "\n",
        "# Evaluacion recall usando recall_score\n",
        "def recall(predictions, threshold=4.0):\n",
        "    # grupa predicciones por usario\n",
        "    user_preds = defaultdict(list)\n",
        "    for uid, iid, true_r, est, _ in predictions:\n",
        "        user_preds[uid].append((iid, true_r, est))\n",
        "\n",
        "    recalls = []\n",
        "    for uid, preds in user_preds.items():\n",
        "        # ordena predicciones\n",
        "        preds_sorted = sorted(preds, key=lambda x: x[2], reverse=True)\n",
        "        n = len(preds_sorted)\n",
        "\n",
        "        # crea vector binario de prediccion (relevant = 1, irrelevante = 0).\n",
        "        y_true = np.array([1 if true_r > threshold else 0 for (_, true_r, _) in preds_sorted])\n",
        "        y_pred = np.array([1 if est > threshold else 0 for (_, _, est) in preds_sorted])\n",
        "\n",
        "        # calcula recall\n",
        "        rec = recall_score(y_true, y_pred, zero_division=0)\n",
        "        recalls.append(rec)\n",
        "\n",
        "    return np.mean(recalls)"
      ],
      "metadata": {
        "id": "m-lkYs2r5J9R"
      },
      "execution_count": 54,
      "outputs": []
    },
    {
      "cell_type": "code",
      "source": [
        "# obtenemos los valores de recall\n",
        "recall_user = recall(predictions_user)\n",
        "recall_product = recall(predictions_product)\n",
        "recall_svd = recall(predictions_svd)\n",
        "recall_nmf = recall(predictions_nmf)\n",
        "\n",
        "print(\"Recall@10 (basado en usario):\", recall_user)\n",
        "print(\"Recall@10 (basado en productos):\", recall_product)\n",
        "print(\"Recall@10 (SVD):\", recall_svd)\n",
        "print(\"Recall@10 (NMF):\", recall_nmf)"
      ],
      "metadata": {
        "colab": {
          "base_uri": "https://localhost:8080/"
        },
        "id": "YxzIg_ot5RXd",
        "outputId": "9dea4488-f579-4d58-cb22-5ccaff0f28be"
      },
      "execution_count": 55,
      "outputs": [
        {
          "output_type": "stream",
          "name": "stdout",
          "text": [
            "Recall@10 (basado en usario): 0.38047194902917825\n",
            "Recall@10 (basado en productos): 0.20634545020313136\n",
            "Recall@10 (SVD): 0.3798508766391291\n",
            "Recall@10 (NMF): 0.3669924892838016\n"
          ]
        }
      ]
    },
    {
      "cell_type": "markdown",
      "source": [
        "La funcion de NDCG hace las siguientes operaciones:\n",
        "1. agrupa todas las predicciones por usario;\n",
        "2. ordena las predicciones por rating estimado descendiente;\n",
        "3. crea un vector binario de relevancia (1 si el rating real es mayor que el 4, 0 si no);\n",
        "4. crea un vector con los ratings estimados correspondientes a esos items;\n",
        "5. calcula el NDCG para cada usuario usando estos vectores.\n",
        "\n",
        "La metrica NDCG muestra la relevancia de los elementos devueltos por el modelo comparado con la relevancia del elemento que devolvería un modelo “ideal” hipotético."
      ],
      "metadata": {
        "id": "MK3e6psojvii"
      }
    },
    {
      "cell_type": "code",
      "source": [
        "K = 10\n",
        "\n",
        "import numpy as np\n",
        "from collections import defaultdict\n",
        "from sklearn.metrics import ndcg_score\n",
        "\n",
        "# Evaluacion recall usando ndcg_score\n",
        "def ndcg(predictions, k=10, threshold=4.0):\n",
        "    # grupa predicciones por usario\n",
        "    user_preds = defaultdict(list)\n",
        "    for uid, iid, true_r, est, _ in predictions:\n",
        "        user_preds[uid].append((iid, true_r, est))\n",
        "\n",
        "    ndcg_list = []\n",
        "    for uid, items in user_preds.items():\n",
        "        # ordena predicciones\n",
        "        items_sorted = sorted(items, key=lambda x: x[2], reverse=True)\n",
        "        n_items = len(items_sorted)\n",
        "\n",
        "        # crea vector binario de prediccion y vector de valores estimados\n",
        "        y_true = np.array([[1 if true_r > threshold else 0 for (_, true_r, _) in items_sorted]])\n",
        "        y_scores = np.array([[est for (_, _, est) in items_sorted]])\n",
        "\n",
        "        # si hay solo un elemento, agrega un elemento fake (0 relevancia y 0 puntuación)\n",
        "        if n_items < 2:\n",
        "            pad = 2 - n_items\n",
        "            y_true = np.concatenate([y_true, np.zeros((1, pad))], axis=1)\n",
        "            y_scores = np.concatenate([y_scores, np.zeros((1, pad))], axis=1)\n",
        "            current_k = 2\n",
        "        else:\n",
        "            current_k = n_items\n",
        "\n",
        "        # calcula NDCG\n",
        "        ndcg_value = ndcg_score(y_true, y_scores, k=current_k)\n",
        "        ndcg_list.append(ndcg_value)\n",
        "\n",
        "    return np.mean(ndcg_list)"
      ],
      "metadata": {
        "id": "nT0x_ZIM52T1"
      },
      "execution_count": 56,
      "outputs": []
    },
    {
      "cell_type": "code",
      "source": [
        "ndcg_user = ndcg(predictions_user, k=K)\n",
        "ndcg_product = ndcg(predictions_product, k=K)\n",
        "ndcg_svd = ndcg(predictions_svd, k=K)\n",
        "ndcg_nmf = ndcg(predictions_nmf, k=K)\n",
        "\n",
        "print(\"NDCG@10 (basado en usario):\", ndcg_user)\n",
        "print(\"NDCG@10 (basado en productos):\", ndcg_product)\n",
        "print(\"NDCG@10 (SVD):\", ndcg_svd)\n",
        "print(\"NDCG@10 (NMF):\", ndcg_nmf)"
      ],
      "metadata": {
        "colab": {
          "base_uri": "https://localhost:8080/"
        },
        "id": "qCNbDsJ858lT",
        "outputId": "e37aaa9c-547c-4347-af23-8dc30d843c94"
      },
      "execution_count": 57,
      "outputs": [
        {
          "output_type": "stream",
          "name": "stdout",
          "text": [
            "NDCG@10 (basado en usario): 0.6251818033312211\n",
            "NDCG@10 (basado en productos): 0.5563687562620963\n",
            "NDCG@10 (SVD): 0.6242711442075215\n",
            "NDCG@10 (NMF): 0.6065251748493437\n"
          ]
        }
      ]
    },
    {
      "cell_type": "code",
      "source": [
        "# crear tabla consolidada de RMSE, precision, recall, ndcg\n",
        "import pandas as pd\n",
        "\n",
        "data = {'Algoritmo': ['Basado en Usuarios', 'Basado en Productos', 'SVD', 'NMF'],\n",
        "  'RMSE': [\n",
        "    rmse_user,\n",
        "    rmse_product,\n",
        "    rmse_svd,\n",
        "    rmse_nmf\n",
        "  ],\n",
        "  'Precision': [\n",
        "    precision_user,\n",
        "    precision_product,\n",
        "    precision_svd,\n",
        "    precision_nmf\n",
        "  ],\n",
        "  'Recall': [\n",
        "    recall_user,\n",
        "    recall_product,\n",
        "    recall_svd,\n",
        "    recall_nmf\n",
        "  ],\n",
        "  'NDCG': [\n",
        "    ndcg_user,\n",
        "    ndcg_product,\n",
        "    ndcg_svd,\n",
        "    ndcg_nmf\n",
        "  ]\n",
        "}\n",
        "\n",
        "df = pd.DataFrame(data)\n",
        "df"
      ],
      "metadata": {
        "colab": {
          "base_uri": "https://localhost:8080/",
          "height": 175
        },
        "id": "Lmme-iSZUuvO",
        "outputId": "7e62de3e-b889-4224-f568-d3f0dbee060c"
      },
      "execution_count": 58,
      "outputs": [
        {
          "output_type": "execute_result",
          "data": {
            "text/plain": [
              "             Algoritmo      RMSE  Precision    Recall      NDCG\n",
              "0   Basado en Usuarios  1.011588   0.669596  0.380472  0.625182\n",
              "1  Basado en Productos  1.036061   0.335857  0.206345  0.556369\n",
              "2                  SVD  0.932241   0.634418  0.379851  0.624271\n",
              "3                  NMF  0.965540   0.626856  0.366992  0.606525"
            ],
            "text/html": [
              "\n",
              "  <div id=\"df-e6321992-8a00-402b-ab94-894bb1d81edf\" class=\"colab-df-container\">\n",
              "    <div>\n",
              "<style scoped>\n",
              "    .dataframe tbody tr th:only-of-type {\n",
              "        vertical-align: middle;\n",
              "    }\n",
              "\n",
              "    .dataframe tbody tr th {\n",
              "        vertical-align: top;\n",
              "    }\n",
              "\n",
              "    .dataframe thead th {\n",
              "        text-align: right;\n",
              "    }\n",
              "</style>\n",
              "<table border=\"1\" class=\"dataframe\">\n",
              "  <thead>\n",
              "    <tr style=\"text-align: right;\">\n",
              "      <th></th>\n",
              "      <th>Algoritmo</th>\n",
              "      <th>RMSE</th>\n",
              "      <th>Precision</th>\n",
              "      <th>Recall</th>\n",
              "      <th>NDCG</th>\n",
              "    </tr>\n",
              "  </thead>\n",
              "  <tbody>\n",
              "    <tr>\n",
              "      <th>0</th>\n",
              "      <td>Basado en Usuarios</td>\n",
              "      <td>1.011588</td>\n",
              "      <td>0.669596</td>\n",
              "      <td>0.380472</td>\n",
              "      <td>0.625182</td>\n",
              "    </tr>\n",
              "    <tr>\n",
              "      <th>1</th>\n",
              "      <td>Basado en Productos</td>\n",
              "      <td>1.036061</td>\n",
              "      <td>0.335857</td>\n",
              "      <td>0.206345</td>\n",
              "      <td>0.556369</td>\n",
              "    </tr>\n",
              "    <tr>\n",
              "      <th>2</th>\n",
              "      <td>SVD</td>\n",
              "      <td>0.932241</td>\n",
              "      <td>0.634418</td>\n",
              "      <td>0.379851</td>\n",
              "      <td>0.624271</td>\n",
              "    </tr>\n",
              "    <tr>\n",
              "      <th>3</th>\n",
              "      <td>NMF</td>\n",
              "      <td>0.965540</td>\n",
              "      <td>0.626856</td>\n",
              "      <td>0.366992</td>\n",
              "      <td>0.606525</td>\n",
              "    </tr>\n",
              "  </tbody>\n",
              "</table>\n",
              "</div>\n",
              "    <div class=\"colab-df-buttons\">\n",
              "\n",
              "  <div class=\"colab-df-container\">\n",
              "    <button class=\"colab-df-convert\" onclick=\"convertToInteractive('df-e6321992-8a00-402b-ab94-894bb1d81edf')\"\n",
              "            title=\"Convert this dataframe to an interactive table.\"\n",
              "            style=\"display:none;\">\n",
              "\n",
              "  <svg xmlns=\"http://www.w3.org/2000/svg\" height=\"24px\" viewBox=\"0 -960 960 960\">\n",
              "    <path d=\"M120-120v-720h720v720H120Zm60-500h600v-160H180v160Zm220 220h160v-160H400v160Zm0 220h160v-160H400v160ZM180-400h160v-160H180v160Zm440 0h160v-160H620v160ZM180-180h160v-160H180v160Zm440 0h160v-160H620v160Z\"/>\n",
              "  </svg>\n",
              "    </button>\n",
              "\n",
              "  <style>\n",
              "    .colab-df-container {\n",
              "      display:flex;\n",
              "      gap: 12px;\n",
              "    }\n",
              "\n",
              "    .colab-df-convert {\n",
              "      background-color: #E8F0FE;\n",
              "      border: none;\n",
              "      border-radius: 50%;\n",
              "      cursor: pointer;\n",
              "      display: none;\n",
              "      fill: #1967D2;\n",
              "      height: 32px;\n",
              "      padding: 0 0 0 0;\n",
              "      width: 32px;\n",
              "    }\n",
              "\n",
              "    .colab-df-convert:hover {\n",
              "      background-color: #E2EBFA;\n",
              "      box-shadow: 0px 1px 2px rgba(60, 64, 67, 0.3), 0px 1px 3px 1px rgba(60, 64, 67, 0.15);\n",
              "      fill: #174EA6;\n",
              "    }\n",
              "\n",
              "    .colab-df-buttons div {\n",
              "      margin-bottom: 4px;\n",
              "    }\n",
              "\n",
              "    [theme=dark] .colab-df-convert {\n",
              "      background-color: #3B4455;\n",
              "      fill: #D2E3FC;\n",
              "    }\n",
              "\n",
              "    [theme=dark] .colab-df-convert:hover {\n",
              "      background-color: #434B5C;\n",
              "      box-shadow: 0px 1px 3px 1px rgba(0, 0, 0, 0.15);\n",
              "      filter: drop-shadow(0px 1px 2px rgba(0, 0, 0, 0.3));\n",
              "      fill: #FFFFFF;\n",
              "    }\n",
              "  </style>\n",
              "\n",
              "    <script>\n",
              "      const buttonEl =\n",
              "        document.querySelector('#df-e6321992-8a00-402b-ab94-894bb1d81edf button.colab-df-convert');\n",
              "      buttonEl.style.display =\n",
              "        google.colab.kernel.accessAllowed ? 'block' : 'none';\n",
              "\n",
              "      async function convertToInteractive(key) {\n",
              "        const element = document.querySelector('#df-e6321992-8a00-402b-ab94-894bb1d81edf');\n",
              "        const dataTable =\n",
              "          await google.colab.kernel.invokeFunction('convertToInteractive',\n",
              "                                                    [key], {});\n",
              "        if (!dataTable) return;\n",
              "\n",
              "        const docLinkHtml = 'Like what you see? Visit the ' +\n",
              "          '<a target=\"_blank\" href=https://colab.research.google.com/notebooks/data_table.ipynb>data table notebook</a>'\n",
              "          + ' to learn more about interactive tables.';\n",
              "        element.innerHTML = '';\n",
              "        dataTable['output_type'] = 'display_data';\n",
              "        await google.colab.output.renderOutput(dataTable, element);\n",
              "        const docLink = document.createElement('div');\n",
              "        docLink.innerHTML = docLinkHtml;\n",
              "        element.appendChild(docLink);\n",
              "      }\n",
              "    </script>\n",
              "  </div>\n",
              "\n",
              "\n",
              "<div id=\"df-12db9c52-0bc0-410a-9987-f2f225f1d79a\">\n",
              "  <button class=\"colab-df-quickchart\" onclick=\"quickchart('df-12db9c52-0bc0-410a-9987-f2f225f1d79a')\"\n",
              "            title=\"Suggest charts\"\n",
              "            style=\"display:none;\">\n",
              "\n",
              "<svg xmlns=\"http://www.w3.org/2000/svg\" height=\"24px\"viewBox=\"0 0 24 24\"\n",
              "     width=\"24px\">\n",
              "    <g>\n",
              "        <path d=\"M19 3H5c-1.1 0-2 .9-2 2v14c0 1.1.9 2 2 2h14c1.1 0 2-.9 2-2V5c0-1.1-.9-2-2-2zM9 17H7v-7h2v7zm4 0h-2V7h2v10zm4 0h-2v-4h2v4z\"/>\n",
              "    </g>\n",
              "</svg>\n",
              "  </button>\n",
              "\n",
              "<style>\n",
              "  .colab-df-quickchart {\n",
              "      --bg-color: #E8F0FE;\n",
              "      --fill-color: #1967D2;\n",
              "      --hover-bg-color: #E2EBFA;\n",
              "      --hover-fill-color: #174EA6;\n",
              "      --disabled-fill-color: #AAA;\n",
              "      --disabled-bg-color: #DDD;\n",
              "  }\n",
              "\n",
              "  [theme=dark] .colab-df-quickchart {\n",
              "      --bg-color: #3B4455;\n",
              "      --fill-color: #D2E3FC;\n",
              "      --hover-bg-color: #434B5C;\n",
              "      --hover-fill-color: #FFFFFF;\n",
              "      --disabled-bg-color: #3B4455;\n",
              "      --disabled-fill-color: #666;\n",
              "  }\n",
              "\n",
              "  .colab-df-quickchart {\n",
              "    background-color: var(--bg-color);\n",
              "    border: none;\n",
              "    border-radius: 50%;\n",
              "    cursor: pointer;\n",
              "    display: none;\n",
              "    fill: var(--fill-color);\n",
              "    height: 32px;\n",
              "    padding: 0;\n",
              "    width: 32px;\n",
              "  }\n",
              "\n",
              "  .colab-df-quickchart:hover {\n",
              "    background-color: var(--hover-bg-color);\n",
              "    box-shadow: 0 1px 2px rgba(60, 64, 67, 0.3), 0 1px 3px 1px rgba(60, 64, 67, 0.15);\n",
              "    fill: var(--button-hover-fill-color);\n",
              "  }\n",
              "\n",
              "  .colab-df-quickchart-complete:disabled,\n",
              "  .colab-df-quickchart-complete:disabled:hover {\n",
              "    background-color: var(--disabled-bg-color);\n",
              "    fill: var(--disabled-fill-color);\n",
              "    box-shadow: none;\n",
              "  }\n",
              "\n",
              "  .colab-df-spinner {\n",
              "    border: 2px solid var(--fill-color);\n",
              "    border-color: transparent;\n",
              "    border-bottom-color: var(--fill-color);\n",
              "    animation:\n",
              "      spin 1s steps(1) infinite;\n",
              "  }\n",
              "\n",
              "  @keyframes spin {\n",
              "    0% {\n",
              "      border-color: transparent;\n",
              "      border-bottom-color: var(--fill-color);\n",
              "      border-left-color: var(--fill-color);\n",
              "    }\n",
              "    20% {\n",
              "      border-color: transparent;\n",
              "      border-left-color: var(--fill-color);\n",
              "      border-top-color: var(--fill-color);\n",
              "    }\n",
              "    30% {\n",
              "      border-color: transparent;\n",
              "      border-left-color: var(--fill-color);\n",
              "      border-top-color: var(--fill-color);\n",
              "      border-right-color: var(--fill-color);\n",
              "    }\n",
              "    40% {\n",
              "      border-color: transparent;\n",
              "      border-right-color: var(--fill-color);\n",
              "      border-top-color: var(--fill-color);\n",
              "    }\n",
              "    60% {\n",
              "      border-color: transparent;\n",
              "      border-right-color: var(--fill-color);\n",
              "    }\n",
              "    80% {\n",
              "      border-color: transparent;\n",
              "      border-right-color: var(--fill-color);\n",
              "      border-bottom-color: var(--fill-color);\n",
              "    }\n",
              "    90% {\n",
              "      border-color: transparent;\n",
              "      border-bottom-color: var(--fill-color);\n",
              "    }\n",
              "  }\n",
              "</style>\n",
              "\n",
              "  <script>\n",
              "    async function quickchart(key) {\n",
              "      const quickchartButtonEl =\n",
              "        document.querySelector('#' + key + ' button');\n",
              "      quickchartButtonEl.disabled = true;  // To prevent multiple clicks.\n",
              "      quickchartButtonEl.classList.add('colab-df-spinner');\n",
              "      try {\n",
              "        const charts = await google.colab.kernel.invokeFunction(\n",
              "            'suggestCharts', [key], {});\n",
              "      } catch (error) {\n",
              "        console.error('Error during call to suggestCharts:', error);\n",
              "      }\n",
              "      quickchartButtonEl.classList.remove('colab-df-spinner');\n",
              "      quickchartButtonEl.classList.add('colab-df-quickchart-complete');\n",
              "    }\n",
              "    (() => {\n",
              "      let quickchartButtonEl =\n",
              "        document.querySelector('#df-12db9c52-0bc0-410a-9987-f2f225f1d79a button');\n",
              "      quickchartButtonEl.style.display =\n",
              "        google.colab.kernel.accessAllowed ? 'block' : 'none';\n",
              "    })();\n",
              "  </script>\n",
              "</div>\n",
              "\n",
              "  <div id=\"id_41c8f916-9a7f-41c4-943f-87d98150d2e1\">\n",
              "    <style>\n",
              "      .colab-df-generate {\n",
              "        background-color: #E8F0FE;\n",
              "        border: none;\n",
              "        border-radius: 50%;\n",
              "        cursor: pointer;\n",
              "        display: none;\n",
              "        fill: #1967D2;\n",
              "        height: 32px;\n",
              "        padding: 0 0 0 0;\n",
              "        width: 32px;\n",
              "      }\n",
              "\n",
              "      .colab-df-generate:hover {\n",
              "        background-color: #E2EBFA;\n",
              "        box-shadow: 0px 1px 2px rgba(60, 64, 67, 0.3), 0px 1px 3px 1px rgba(60, 64, 67, 0.15);\n",
              "        fill: #174EA6;\n",
              "      }\n",
              "\n",
              "      [theme=dark] .colab-df-generate {\n",
              "        background-color: #3B4455;\n",
              "        fill: #D2E3FC;\n",
              "      }\n",
              "\n",
              "      [theme=dark] .colab-df-generate:hover {\n",
              "        background-color: #434B5C;\n",
              "        box-shadow: 0px 1px 3px 1px rgba(0, 0, 0, 0.15);\n",
              "        filter: drop-shadow(0px 1px 2px rgba(0, 0, 0, 0.3));\n",
              "        fill: #FFFFFF;\n",
              "      }\n",
              "    </style>\n",
              "    <button class=\"colab-df-generate\" onclick=\"generateWithVariable('df')\"\n",
              "            title=\"Generate code using this dataframe.\"\n",
              "            style=\"display:none;\">\n",
              "\n",
              "  <svg xmlns=\"http://www.w3.org/2000/svg\" height=\"24px\"viewBox=\"0 0 24 24\"\n",
              "       width=\"24px\">\n",
              "    <path d=\"M7,19H8.4L18.45,9,17,7.55,7,17.6ZM5,21V16.75L18.45,3.32a2,2,0,0,1,2.83,0l1.4,1.43a1.91,1.91,0,0,1,.58,1.4,1.91,1.91,0,0,1-.58,1.4L9.25,21ZM18.45,9,17,7.55Zm-12,3A5.31,5.31,0,0,0,4.9,8.1,5.31,5.31,0,0,0,1,6.5,5.31,5.31,0,0,0,4.9,4.9,5.31,5.31,0,0,0,6.5,1,5.31,5.31,0,0,0,8.1,4.9,5.31,5.31,0,0,0,12,6.5,5.46,5.46,0,0,0,6.5,12Z\"/>\n",
              "  </svg>\n",
              "    </button>\n",
              "    <script>\n",
              "      (() => {\n",
              "      const buttonEl =\n",
              "        document.querySelector('#id_41c8f916-9a7f-41c4-943f-87d98150d2e1 button.colab-df-generate');\n",
              "      buttonEl.style.display =\n",
              "        google.colab.kernel.accessAllowed ? 'block' : 'none';\n",
              "\n",
              "      buttonEl.onclick = () => {\n",
              "        google.colab.notebook.generateWithVariable('df');\n",
              "      }\n",
              "      })();\n",
              "    </script>\n",
              "  </div>\n",
              "\n",
              "    </div>\n",
              "  </div>\n"
            ],
            "application/vnd.google.colaboratory.intrinsic+json": {
              "type": "dataframe",
              "variable_name": "df",
              "summary": "{\n  \"name\": \"df\",\n  \"rows\": 4,\n  \"fields\": [\n    {\n      \"column\": \"Algoritmo\",\n      \"properties\": {\n        \"dtype\": \"string\",\n        \"num_unique_values\": 4,\n        \"samples\": [\n          \"Basado en Productos\",\n          \"NMF\",\n          \"Basado en Usuarios\"\n        ],\n        \"semantic_type\": \"\",\n        \"description\": \"\"\n      }\n    },\n    {\n      \"column\": \"RMSE\",\n      \"properties\": {\n        \"dtype\": \"number\",\n        \"std\": 0.04643646124219491,\n        \"min\": 0.9322407318517191,\n        \"max\": 1.0360610633793974,\n        \"num_unique_values\": 4,\n        \"samples\": [\n          1.0360610633793974,\n          0.9655399850417742,\n          1.0115883751659376\n        ],\n        \"semantic_type\": \"\",\n        \"description\": \"\"\n      }\n    },\n    {\n      \"column\": \"Precision\",\n      \"properties\": {\n        \"dtype\": \"number\",\n        \"std\": 0.15500577001898802,\n        \"min\": 0.33585736148861295,\n        \"max\": 0.6695960573997044,\n        \"num_unique_values\": 4,\n        \"samples\": [\n          0.33585736148861295,\n          0.6268556199863577,\n          0.6695960573997044\n        ],\n        \"semantic_type\": \"\",\n        \"description\": \"\"\n      }\n    },\n    {\n      \"column\": \"Recall\",\n      \"properties\": {\n        \"dtype\": \"number\",\n        \"std\": 0.08494069571023347,\n        \"min\": 0.20634545020313136,\n        \"max\": 0.38047194902917825,\n        \"num_unique_values\": 4,\n        \"samples\": [\n          0.20634545020313136,\n          0.3669924892838016,\n          0.38047194902917825\n        ],\n        \"semantic_type\": \"\",\n        \"description\": \"\"\n      }\n    },\n    {\n      \"column\": \"NDCG\",\n      \"properties\": {\n        \"dtype\": \"number\",\n        \"std\": 0.032307706222019186,\n        \"min\": 0.5563687562620963,\n        \"max\": 0.6251818033312211,\n        \"num_unique_values\": 4,\n        \"samples\": [\n          0.5563687562620963,\n          0.6065251748493437,\n          0.6251818033312211\n        ],\n        \"semantic_type\": \"\",\n        \"description\": \"\"\n      }\n    }\n  ]\n}"
            }
          },
          "metadata": {},
          "execution_count": 58
        }
      ]
    },
    {
      "cell_type": "markdown",
      "source": [
        "Análisis de los resultados:\n",
        "\n",
        "Basado en Usuarios\n",
        "- En general, sobresale en las metricas de recomendacion (precision, recall y NDCG), aunque no es el mejor en RMSE.\n",
        "\n",
        "Basado en Productos\n",
        "- En general, funciona algo peor que el basado en usuarios en todas las metricas.\n",
        "\n",
        "SVD\n",
        "- Es buena para predecir la calificacion numerica (menor RMSE), pero su ranking (NDCG) no es el mas alto.\n",
        "\n",
        "NMF\n",
        "- En general, es el metodo que rinde peor en estas metricas comparado con los otros tres.\n",
        "\n",
        "Conclusiones:\n",
        "\n",
        "Si la prioridad es la exactitud numerica de las predicciones (que el sistema acierte con la calificacion lo mas cerca posible a la real), el mejor es SVD porque tiene el RMSE mas bajo.\n",
        "\n",
        "Si la prioridad es la calidad de la recomendacion en terminos de relevancia (cantidad de items que realmente le gustan al usario), en este caso KNNBasic basado en Usuarios es superior (mejor precisión, recall y NDCG).\n",
        "\n",
        "Dado que en la mayoría de escenarios de recomendacion se valoran mas las metricas de relevancia (precision, recall, NDCG) que la exactitud absoluta de, el metodo basado en usuarios puede ser la mejor eleccion global entre los algoritmos presentados."
      ],
      "metadata": {
        "id": "OPL_dLB0VbLw"
      }
    }
  ]
}