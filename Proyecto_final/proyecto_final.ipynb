{
 "cells": [
  {
   "cell_type": "markdown",
   "id": "0dd5752a",
   "metadata": {},
   "source": [
    "                                            ***PROYECTO FINAL***\n",
    "                                                    \n",
    "El desperdicio alimentario se ha convertido en una preocupación a nivel mundial, y éste es generado en distintas etapas a lo largo de toda la cadena alimentaria, desde la producción primaria hasta el consumo. Por lo tanto, abordar el problema requiere actuar en todas esas etapas, tanto en la prevención como en la reutilización de los que se generen de forma inevitable.\n",
    "\n",
    "A nivel mundial, se desperdician o pierden alrededor de un tercio de los alimentos que se producen. Las tasas más altas de desperdicio se sitúan en el 40–50% para tubérculos, frutas y hortalizas; 35% para pescado; 30% para cereales, y 20% para semillas oleaginosas, carne y productos lácteos. \n",
    "\n",
    "Mediante el uso de IA y un daataset especializado nos proponemos arrojar algo más de luz sobre este problema y advertir de las causas a largo plazo de "
   ]
  },
  {
   "cell_type": "markdown",
   "id": "c75738cb",
   "metadata": {},
   "source": [
    "Como se ha mencionado arriba el objetivo de este proyecto es predecir el gasto de comida que se producirá en un futuro, para ello utilizaremos el siguiente dataset de Kaggle, creado por Atharva Soundankar.\n",
    "\n",
    "https://www.kaggle.com/datasets/atharvasoundankar/global-food-wastage-dataset-2018-2024"
   ]
  },
  {
   "cell_type": "code",
   "execution_count": 12,
   "id": "3649cd6b",
   "metadata": {},
   "outputs": [
    {
     "data": {
      "text/html": [
       "<div>\n",
       "<style scoped>\n",
       "    .dataframe tbody tr th:only-of-type {\n",
       "        vertical-align: middle;\n",
       "    }\n",
       "\n",
       "    .dataframe tbody tr th {\n",
       "        vertical-align: top;\n",
       "    }\n",
       "\n",
       "    .dataframe thead th {\n",
       "        text-align: right;\n",
       "    }\n",
       "</style>\n",
       "<table border=\"1\" class=\"dataframe\">\n",
       "  <thead>\n",
       "    <tr style=\"text-align: right;\">\n",
       "      <th></th>\n",
       "      <th>Country</th>\n",
       "      <th>Year</th>\n",
       "      <th>Food Category</th>\n",
       "      <th>Total Waste (Tons)</th>\n",
       "      <th>Economic Loss (Million $)</th>\n",
       "      <th>Avg Waste per Capita (Kg)</th>\n",
       "      <th>Population (Million)</th>\n",
       "      <th>Household Waste (%)</th>\n",
       "    </tr>\n",
       "  </thead>\n",
       "  <tbody>\n",
       "    <tr>\n",
       "      <th>0</th>\n",
       "      <td>1</td>\n",
       "      <td>2019</td>\n",
       "      <td>4</td>\n",
       "      <td>19268.63</td>\n",
       "      <td>18686.68</td>\n",
       "      <td>72.69</td>\n",
       "      <td>87.59</td>\n",
       "      <td>53.64</td>\n",
       "    </tr>\n",
       "    <tr>\n",
       "      <th>1</th>\n",
       "      <td>8</td>\n",
       "      <td>2019</td>\n",
       "      <td>7</td>\n",
       "      <td>3916.97</td>\n",
       "      <td>4394.48</td>\n",
       "      <td>192.52</td>\n",
       "      <td>1153.99</td>\n",
       "      <td>30.61</td>\n",
       "    </tr>\n",
       "    <tr>\n",
       "      <th>2</th>\n",
       "      <td>6</td>\n",
       "      <td>2022</td>\n",
       "      <td>2</td>\n",
       "      <td>9700.16</td>\n",
       "      <td>8909.16</td>\n",
       "      <td>166.94</td>\n",
       "      <td>1006.11</td>\n",
       "      <td>48.08</td>\n",
       "    </tr>\n",
       "    <tr>\n",
       "      <th>3</th>\n",
       "      <td>5</td>\n",
       "      <td>2023</td>\n",
       "      <td>4</td>\n",
       "      <td>46299.69</td>\n",
       "      <td>40551.22</td>\n",
       "      <td>120.19</td>\n",
       "      <td>953.05</td>\n",
       "      <td>31.91</td>\n",
       "    </tr>\n",
       "    <tr>\n",
       "      <th>4</th>\n",
       "      <td>5</td>\n",
       "      <td>2023</td>\n",
       "      <td>1</td>\n",
       "      <td>33096.57</td>\n",
       "      <td>36980.82</td>\n",
       "      <td>104.74</td>\n",
       "      <td>1105.47</td>\n",
       "      <td>36.06</td>\n",
       "    </tr>\n",
       "  </tbody>\n",
       "</table>\n",
       "</div>"
      ],
      "text/plain": [
       "   Country  Year  Food Category  Total Waste (Tons)  \\\n",
       "0        1  2019              4            19268.63   \n",
       "1        8  2019              7             3916.97   \n",
       "2        6  2022              2             9700.16   \n",
       "3        5  2023              4            46299.69   \n",
       "4        5  2023              1            33096.57   \n",
       "\n",
       "   Economic Loss (Million $)  Avg Waste per Capita (Kg)  Population (Million)  \\\n",
       "0                   18686.68                      72.69                 87.59   \n",
       "1                    4394.48                     192.52               1153.99   \n",
       "2                    8909.16                     166.94               1006.11   \n",
       "3                   40551.22                     120.19                953.05   \n",
       "4                   36980.82                     104.74               1105.47   \n",
       "\n",
       "   Household Waste (%)  \n",
       "0                53.64  \n",
       "1                30.61  \n",
       "2                48.08  \n",
       "3                31.91  \n",
       "4                36.06  "
      ]
     },
     "execution_count": 12,
     "metadata": {},
     "output_type": "execute_result"
    }
   ],
   "source": [
    "import pandas as pd\n",
    "from sklearn.preprocessing import LabelEncoder\n",
    "\n",
    "SEED = 42\n",
    "\n",
    "df = pd.read_csv('global_food_wastage_dataset.csv', encoding = 'utf-8')\n",
    "df = df.dropna()\n",
    "df = df.drop_duplicates()\n",
    "\n",
    "df = df.reset_index(drop=True)\n",
    "\n",
    "label = LabelEncoder()\n",
    "\n",
    "df['Country'] = label.fit_transform(df['Country'])\n",
    "df['Food Category'] = label.fit_transform(df['Food Category'])\n",
    "\n",
    "df.head()"
   ]
  },
  {
   "cell_type": "markdown",
   "id": "3dbafe48",
   "metadata": {},
   "source": [
    "Ahora que ya hemos limpidado el dataset y lo hemos preparado para su uso podemos proceder a seleccionar los modelos que utilizaremos para resolver el problema, dado que nuestro objetivo es ser capaces de predecir la evolución del gasto de comida global debemos utilizar la regresión."
   ]
  },
  {
   "cell_type": "markdown",
   "id": "3eff46df",
   "metadata": {},
   "source": [
    "La libreria de sklearn nos ofrece multiples modelos basados en regresión, a fin de utilizar los recursos que hemos estudiado en esta asignatura usaremos el perceptrón multicapa y la regresión lineal."
   ]
  },
  {
   "cell_type": "code",
   "execution_count": 35,
   "id": "c06a036e",
   "metadata": {},
   "outputs": [
    {
     "name": "stdout",
     "output_type": "stream",
     "text": [
      "Linear Regression Score: 0.9525419230051916\n",
      "[15732.43932342]\n"
     ]
    }
   ],
   "source": [
    "from sklearn.model_selection import train_test_split\n",
    "from sklearn.linear_model import LinearRegression\n",
    "\n",
    "x_train, x_test, y_train, y_test = train_test_split(df[['Country', 'Year', 'Food Category', 'Economic Loss (Million $)']], df['Total Waste (Tons)'], test_size=0.35, random_state=SEED)\n",
    "\n",
    "#Cargamos los modelos\n",
    "linearregression = LinearRegression()\n",
    "\n",
    "\n",
    "#Entrenamos los modelos\n",
    "linear_model = linearregression.fit(x_train, y_train)\n",
    "\n",
    "\n",
    "#Validamos los modelos con el set de prueba\n",
    "linear_score = linear_model.score(x_test, y_test)\n",
    "\n",
    "\n",
    "print(f'Linear Regression Score: {linear_score}')\n",
    "#print(f'Perceptron Score: {perceptron_score}')\n",
    "\n",
    "\n",
    "prediction_data = pd.DataFrame({\n",
    "    'Country': [df['Country'][0]], \n",
    "    'Year': [2025],\n",
    "    'Food Category': [df['Food Category'][0]], \n",
    "    'Economic Loss (Million $)': [15000],\n",
    "    #'Total Waste (Tons)': [1000]\n",
    "})\n",
    "\n",
    "print(linear_model.predict(prediction_data))"
   ]
  },
  {
   "cell_type": "code",
   "execution_count": 39,
   "id": "25138d48",
   "metadata": {},
   "outputs": [
    {
     "name": "stdout",
     "output_type": "stream",
     "text": [
      "MLP Regressor Score: 0.9615914364292345\n",
      "[15478.85295755]\n"
     ]
    }
   ],
   "source": [
    "from sklearn.neural_network import MLPRegressor\n",
    "\n",
    "mlpregressor = MLPRegressor(hidden_layer_sizes = 3 ,random_state=SEED, max_iter=1000)\n",
    "\n",
    "mlp_model = mlpregressor.fit(x_train, y_train)\n",
    "mlp_score = mlp_model.score(x_test, y_test)\n",
    "\n",
    "print(f'MLP Regressor Score: {mlp_score}')\n",
    "\n",
    "prediction_data = pd.DataFrame({\n",
    "    'Country': [df['Country'][0]], \n",
    "    'Year': [2025],\n",
    "    'Food Category': [df['Food Category'][0]], \n",
    "    'Economic Loss (Million $)': [15000],\n",
    "    #'Total Waste (Tons)': [1000]\n",
    "})\n",
    "print(mlp_model.predict(prediction_data))"
   ]
  }
 ],
 "metadata": {
  "kernelspec": {
   "display_name": "base",
   "language": "python",
   "name": "python3"
  },
  "language_info": {
   "codemirror_mode": {
    "name": "ipython",
    "version": 3
   },
   "file_extension": ".py",
   "mimetype": "text/x-python",
   "name": "python",
   "nbconvert_exporter": "python",
   "pygments_lexer": "ipython3",
   "version": "3.12.3"
  }
 },
 "nbformat": 4,
 "nbformat_minor": 5
}
