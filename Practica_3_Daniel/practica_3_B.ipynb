{
 "cells": [
  {
   "cell_type": "markdown",
   "metadata": {},
   "source": [
    "***Parte B***: Redes Neuronales Convolucionales"
   ]
  },
  {
   "cell_type": "code",
   "execution_count": null,
   "metadata": {},
   "outputs": [],
   "source": [
    "pip install torch torchvision matplotlib"
   ]
  },
  {
   "cell_type": "markdown",
   "metadata": {},
   "source": [
    "***Preguntas***\n",
    "1. ¿Que significa que el batch_size sea 4? Explica cómo afectaría al cálculo de los pesos en cada epoch.\n",
    "La variable batch_size define cuantos datos se procesan en cada lote, al tener un valor pequeño el calculo de los pesos se realiza más veces en cada epoch.\n",
    "2. ¿Por qué al dividir el conjunto de entrenamiento el parámetro shuffle está a True, mientras que el conjunto de test está a False?\n",
    "El parametro shuffle reorganiza de manera aleatoria los datos que se cargan en cada epoch, esto puede ser beneficioso para evitar patrones que puedan afectar al desempeño del modelo, en el test no es necesario ya que son los datos de validación y por lo tanto no es necesario hacer el shuffle.\n",
    "4. Indica la línea de código donde se realiza el cálculo de los gradientes para determinar cómo\n",
    "modificar los pesos (los filtros kernel), e indica la línea de código donde se recalculan los pesos.\n",
    "¿Qué se ha tenido que realizar antes para poder hacer el cálculo de gradientes y la\n",
    "actualización de pesos?\n"
   ]
  },
  {
   "cell_type": "code",
   "execution_count": null,
   "metadata": {},
   "outputs": [],
   "source": [
    "'''\n",
    "Pregunta 3\n",
    "'''\n",
    "class Net(nn.Module):  # Define una clase para la red neuronal que hereda de nn.Module\n",
    "    def __init__(self):  # Constructor de la clase\n",
    "        super().__init__()  # Llama al constructor de la clase base nn.Module\n",
    "        # Primera capa convolucional: toma imágenes con 3 canales (RGB), aplica 6 filtros de tamaño 5x5\n",
    "        self.conv1 = nn.Conv2d(3, 6, 5)  \n",
    "        # Capa de pooling: aplica max pooling con un tamaño de ventana 2x2 y un paso (stride) de 2\n",
    "        self.pool = nn.MaxPool2d(2, 2)  \n",
    "        # Segunda capa convolucional: toma 6 canales de entrada y aplica 16 filtros de tamaño 5x5\n",
    "        self.conv2 = nn.Conv2d(6, 16, 5)  \n",
    "        # Primera capa completamente conectada: conecta 16 * 5 * 5 entradas (salida de la convolución) a 120 neuronas\n",
    "        self.fc1 = nn.Linear(16 * 5 * 5, 120)  \n",
    "        # Segunda capa completamente conectada: conecta 120 neuronas a 84 neuronas\n",
    "        self.fc2 = nn.Linear(120, 84)  \n",
    "        # Tercera capa completamente conectada: conecta 84 neuronas a 10 neuronas (una por cada clase)\n",
    "        self.fc3 = nn.Linear(84, 10)  \n",
    "\n",
    "    def forward(self, x):  # Define el flujo de datos a través de la red (forward propagation)\n",
    "        # Aplica la primera capa convolucional, seguida de ReLU y max pooling\n",
    "        x = self.pool(F.relu(self.conv1(x)))  \n",
    "        # Aplica la segunda capa convolucional, seguida de ReLU y max pooling\n",
    "        x = self.pool(F.relu(self.conv2(x)))  \n",
    "        # Aplana el tensor (convierte las dimensiones de características en una sola dimensión, excepto el batch)\n",
    "        x = torch.flatten(x, 1)  # Mantiene la dimensión del batch (dimensión 0)\n",
    "        # Aplica la primera capa completamente conectada con activación ReLU\n",
    "        x = F.relu(self.fc1(x))  \n",
    "        # Aplica la segunda capa completamente conectada con activación ReLU\n",
    "        x = F.relu(self.fc2(x))  \n",
    "        # Aplica la última capa completamente conectada (sin activación, ya que es la salida final)\n",
    "        x = self.fc3(x)  \n",
    "        return x  # Devuelve la salida final (logits para las 10 clases)"
   ]
  },
  {
   "cell_type": "markdown",
   "metadata": {},
   "source": []
  }
 ],
 "metadata": {
  "kernelspec": {
   "display_name": "Python 3",
   "language": "python",
   "name": "python3"
  },
  "language_info": {
   "codemirror_mode": {
    "name": "ipython",
    "version": 3
   },
   "file_extension": ".py",
   "mimetype": "text/x-python",
   "name": "python",
   "nbconvert_exporter": "python",
   "pygments_lexer": "ipython3",
   "version": "3.11.9"
  }
 },
 "nbformat": 4,
 "nbformat_minor": 2
}
