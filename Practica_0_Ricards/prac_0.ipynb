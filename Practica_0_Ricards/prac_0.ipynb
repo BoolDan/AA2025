{
  "nbformat": 4,
  "nbformat_minor": 0,
  "metadata": {
    "colab": {
      "provenance": []
    },
    "kernelspec": {
      "name": "python3",
      "display_name": "Python 3"
    },
    "language_info": {
      "name": "python"
    }
  },
  "cells": [
    {
      "cell_type": "markdown",
      "source": [
        "# Practica 0: Python - Monte Carlo"
      ],
      "metadata": {
        "id": "g3tyChWkvHYU"
      }
    },
    {
      "cell_type": "markdown",
      "source": [
        "Metodos auxiliares"
      ],
      "metadata": {
        "id": "fXJ5aolyWn95"
      }
    },
    {
      "cell_type": "code",
      "source": [
        "import random\n",
        "import time\n",
        "import matplotlib.pyplot as plt\n",
        "import numpy as np\n",
        "\n",
        "\n",
        "def generar_puntos_random(X, a, b, M):\n",
        "  \"\"\"Genera X puntos random en el rectangulo [a, b] x [0, M].\"\"\"\n",
        "  x_random = np.random.uniform(a, b, X)\n",
        "  y_random = np.random.uniform(0, M, X)\n",
        "\n",
        "  return x_random, y_random\n",
        "\n",
        "\n",
        "def compara_tiempos(fun_1, fun_2, test_func, a, b):\n",
        "  \"\"\"Compara tiempo de ejecucion de fun_1 y fun_2.\"\"\"\n",
        "  sizes = np.linspace(100, 10000000, 20)\n",
        "  times_fun_1 = []\n",
        "  times_fun_2 = []\n",
        "\n",
        "  for size in sizes:\n",
        "    # generación de un variable x aleatorio\n",
        "    x = np.random.uniform(1, 100, int(size))\n",
        "\n",
        "    # mide tiempo de ejecucion de fun_1\n",
        "    tic = time.process_time()\n",
        "    dot = fun_1(test_func, a, b, int(size))\n",
        "    toc = time.process_time()\n",
        "    times_fun_1 += [1000 * (toc - tic)]\n",
        "\n",
        "    # mide tiempo de ejecucion de fun_2\n",
        "    tic = time.process_time()\n",
        "    fast_dot = fun_2(test_func, a, b, int(size))\n",
        "    toc = time.process_time()\n",
        "    times_fun_2 += [1000 * (toc - tic)]\n",
        "\n",
        "  plt.figure()\n",
        "  plt.scatter(sizes, times_fun_1, c='red', label='bucle')\n",
        "  plt.scatter(sizes, times_fun_2, c='blue', label='vector')\n",
        "  plt.legend()\n",
        "  plt.savefig('compara-tiempos-integra_mc.png')"
      ],
      "metadata": {
        "id": "VmyPZJlTWqsk"
      },
      "execution_count": 3,
      "outputs": []
    },
    {
      "cell_type": "markdown",
      "source": [
        "Metodo 1: usando *num_puntos* iteraciones"
      ],
      "metadata": {
        "id": "H2fGxqcAvQL8"
      }
    },
    {
      "cell_type": "code",
      "execution_count": 4,
      "metadata": {
        "id": "PPSjGVQ5pQ-d"
      },
      "outputs": [],
      "source": [
        "def integra_mc_1(fun, a, b, num_puntos=10000):\n",
        "  # cálculo de M (valor máximo dentro de intervalo)\n",
        "  graph = np.linspace(a, b, num_puntos)\n",
        "  m = np.max(fun(graph))\n",
        "\n",
        "  # generación de \"num_puntos\"\n",
        "  x_random, y_random = generar_puntos_random(num_puntos, a, b, m)\n",
        "  puntos = list(zip(x_random, y_random))\n",
        "\n",
        "  # cálculo de la integral\n",
        "  puntos_dentro = 0\n",
        "\n",
        "  for punto in puntos:\n",
        "    if punto[1] <= fun(punto[0]):\n",
        "      puntos_dentro += 1\n",
        "\n",
        "  area_rectangulo = (b - a) * m\n",
        "  area_bajo_curva = area_rectangulo * (puntos_dentro / num_puntos)\n",
        "\n",
        "  return area_bajo_curva"
      ]
    },
    {
      "cell_type": "code",
      "source": [
        "integra_mc_1(lambda x: x**2 + x, 0, 1)"
      ],
      "metadata": {
        "colab": {
          "base_uri": "https://localhost:8080/"
        },
        "id": "1b4Wn91Df4lj",
        "outputId": "9b3b761f-d474-422f-acc3-4b574ded5f2a"
      },
      "execution_count": 5,
      "outputs": [
        {
          "output_type": "execute_result",
          "data": {
            "text/plain": [
              "0.835"
            ]
          },
          "metadata": {},
          "execution_count": 5
        }
      ]
    },
    {
      "cell_type": "markdown",
      "source": [
        "Metodo 1: comprobacion de resultado"
      ],
      "metadata": {
        "id": "0xZcvN3nwLTH"
      }
    },
    {
      "cell_type": "code",
      "source": [
        "# Comprobando resultado usando scipy.integrate.quad\n",
        "from scipy.integrate import quad\n",
        "\n",
        "quad(lambda x: x**2 + x, 0, 1)"
      ],
      "metadata": {
        "id": "bxlTfjJWwSnx",
        "colab": {
          "base_uri": "https://localhost:8080/"
        },
        "outputId": "47cbd0d7-94d5-4c6f-d349-bd277e5093ff"
      },
      "execution_count": 6,
      "outputs": [
        {
          "output_type": "execute_result",
          "data": {
            "text/plain": [
              "(0.8333333333333335, 9.251858538542972e-15)"
            ]
          },
          "metadata": {},
          "execution_count": 6
        }
      ]
    },
    {
      "cell_type": "markdown",
      "source": [
        "Metodo 2: usando numpy"
      ],
      "metadata": {
        "id": "lFJf3_89vaMW"
      }
    },
    {
      "cell_type": "code",
      "source": [
        "import numpy as np\n",
        "\n",
        "def integra_mc_2(fun, a, b, num_puntos=10000):\n",
        "  # cálculo de M (valor máximo dentro de intervalo)\n",
        "  graph = np.linspace(a, b, num_puntos)\n",
        "  m = np.max(fun(graph))\n",
        "\n",
        "  # m = valor_max(fun, a, b)[1]\n",
        "\n",
        "  # generación de \"num_puntos\"\n",
        "  puntos_x, puntos_y = generar_puntos_random(num_puntos, a, b, m)\n",
        "\n",
        "  # utilice operaciones entre vectores para calcular resultado\n",
        "  puntos_dentro = np.count_nonzero(puntos_y <= fun(puntos_x))\n",
        "  area_rectangulo = (b - a) * m\n",
        "  area_bajo_curva = area_rectangulo * (puntos_dentro / num_puntos)\n",
        "\n",
        "  return area_bajo_curva"
      ],
      "metadata": {
        "id": "upCmWNuovfN9"
      },
      "execution_count": 7,
      "outputs": []
    },
    {
      "cell_type": "code",
      "source": [
        "integra_mc_2(lambda x: x**2, 2, 4)"
      ],
      "metadata": {
        "colab": {
          "base_uri": "https://localhost:8080/"
        },
        "id": "ZSkhs-D4gGTP",
        "outputId": "dad406c9-8b98-4df2-9f51-8f19fe90a541"
      },
      "execution_count": 8,
      "outputs": [
        {
          "output_type": "execute_result",
          "data": {
            "text/plain": [
              "18.8192"
            ]
          },
          "metadata": {},
          "execution_count": 8
        }
      ]
    },
    {
      "cell_type": "markdown",
      "source": [
        "Metodo 2: comprobacion de resultado"
      ],
      "metadata": {
        "id": "U_97Q26jwV4l"
      }
    },
    {
      "cell_type": "code",
      "source": [
        "# Comprobando resultado usando scipy.integrate.quad\n",
        "from scipy.integrate import quad\n",
        "\n",
        "quad(lambda x: x**2, 2, 4)"
      ],
      "metadata": {
        "id": "8T0iMMB0wbOc",
        "colab": {
          "base_uri": "https://localhost:8080/"
        },
        "outputId": "6e5078df-fdc8-491d-c5f6-9a2b3fac5986"
      },
      "execution_count": 9,
      "outputs": [
        {
          "output_type": "execute_result",
          "data": {
            "text/plain": [
              "(18.666666666666668, 2.0724163126336256e-13)"
            ]
          },
          "metadata": {},
          "execution_count": 9
        }
      ]
    },
    {
      "cell_type": "markdown",
      "source": [
        "Comparacion de tiempos de ejecucion"
      ],
      "metadata": {
        "id": "xPw9AeXYl0nZ"
      }
    },
    {
      "cell_type": "code",
      "source": [
        "test_func = lambda x: x**2 + x\n",
        "compara_tiempos(integra_mc_1, integra_mc_2, test_func, 0, 1)"
      ],
      "metadata": {
        "colab": {
          "base_uri": "https://localhost:8080/",
          "height": 448
        },
        "id": "ypEyQ2zel0HD",
        "outputId": "18d70964-ae8a-44b0-da42-73bd557fd7ae"
      },
      "execution_count": 10,
      "outputs": [
        {
          "output_type": "display_data",
          "data": {
            "text/plain": [
              "<Figure size 640x480 with 1 Axes>"
            ],
            "image/png": "[encoded data removed]"
          },
          "metadata": {}
        }
      ]
    },
    {
      "cell_type": "markdown",
      "source": [
        "## Conclusiones\n",
        "\n",
        "En caso de bucle, el tiempo de ejecución crece rápidamente a medida que aumenta el número de puntos. El uso de bucles tradicionales es significativamente más lento.\n",
        "\n",
        "Usando vectores con NumPy, el tiempo de ejecución crece mucho más lentamente en comparación con los bucles. El enfoque vectorizado aprovecha optimizaciones internas de NumPy que usan operaciones en bloque y optimizaciones a nivel de hardware, lo que reduce la sobrecarga de los bucles en Python.\n",
        "\n",
        "Pues, si estás realizando integraciones en Python, es altamente recomendable utilizar NumPy y técnicas de vectorización siempre que sea posible."
      ],
      "metadata": {
        "id": "ZECQCAPx7bK5"
      }
    }
  ]
}