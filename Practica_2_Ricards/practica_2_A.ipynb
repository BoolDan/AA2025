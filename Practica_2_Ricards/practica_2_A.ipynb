{
  "nbformat": 4,
  "nbformat_minor": 0,
  "metadata": {
    "colab": {
      "provenance": []
    },
    "kernelspec": {
      "name": "python3",
      "display_name": "Python 3"
    },
    "language_info": {
      "name": "python"
    }
  },
  "cells": [
    {
      "cell_type": "markdown",
      "source": [
        "# Practica 2\n",
        "\n",
        "## Parte A"
      ],
      "metadata": {
        "id": "Pae2jWv5cIbg"
      }
    },
    {
      "cell_type": "code",
      "execution_count": null,
      "metadata": {
        "colab": {
          "base_uri": "https://localhost:8080/"
        },
        "id": "2R1IGoGURgYf",
        "outputId": "04c875f6-2b36-4b42-fd58-2297515bd75c"
      },
      "outputs": [
        {
          "output_type": "stream",
          "name": "stdout",
          "text": [
            "Requirement already satisfied: scikit-learn in /usr/local/lib/python3.11/dist-packages (1.6.1)\n",
            "Requirement already satisfied: numpy>=1.19.5 in /usr/local/lib/python3.11/dist-packages (from scikit-learn) (1.26.4)\n",
            "Requirement already satisfied: scipy>=1.6.0 in /usr/local/lib/python3.11/dist-packages (from scikit-learn) (1.13.1)\n",
            "Requirement already satisfied: joblib>=1.2.0 in /usr/local/lib/python3.11/dist-packages (from scikit-learn) (1.4.2)\n",
            "Requirement already satisfied: threadpoolctl>=3.1.0 in /usr/local/lib/python3.11/dist-packages (from scikit-learn) (3.5.0)\n"
          ]
        }
      ],
      "source": [
        "pip install scikit-learn"
      ]
    },
    {
      "cell_type": "markdown",
      "source": [
        "Primero, definimos la funcion que genera la FC en el interval de tiempo pedefinido."
      ],
      "metadata": {
        "id": "MufxP9sTc69t"
      }
    },
    {
      "cell_type": "code",
      "source": [
        "# generacion de datos aleatorios\n",
        "import numpy as np\n",
        "\n",
        "def generarDatosFC():\n",
        "  # definimos el intervalo de tiempo (1 minuto)\n",
        "  inicio = 1\n",
        "  fin = 60\n",
        "\n",
        "  # instantes de tiempo (1,2,3,4,...,60)\n",
        "  x = np.arange(inicio, fin + 1)\n",
        "\n",
        "  # frequencias cardiacas correspondientes a tiempo usando la formula\n",
        "  y = 0.7 * x + 60 + np.random.uniform(-5.9, 5.9, size=len(x))\n",
        "  return x, y\n",
        "\n",
        "x, y = generarDatosFC()\n",
        "\n",
        "print(\"Tiempo:\")\n",
        "print(x)\n",
        "print(\"FCs:\")\n",
        "print(y)"
      ],
      "metadata": {
        "colab": {
          "base_uri": "https://localhost:8080/"
        },
        "id": "g8mEO7OvRpeh",
        "outputId": "e7ed7574-27e0-4d9e-e541-b17d48354adc"
      },
      "execution_count": 2,
      "outputs": [
        {
          "output_type": "stream",
          "name": "stdout",
          "text": [
            "Tiempo:\n",
            "[ 1  2  3  4  5  6  7  8  9 10 11 12 13 14 15 16 17 18 19 20 21 22 23 24\n",
            " 25 26 27 28 29 30 31 32 33 34 35 36 37 38 39 40 41 42 43 44 45 46 47 48\n",
            " 49 50 51 52 53 54 55 56 57 58 59 60]\n",
            "FCs:\n",
            "[ 55.23326237  62.82915069  56.79707689  64.15786087  67.78461627\n",
            "  64.9865345   66.87201327  68.49562284  60.56923986  68.88037359\n",
            "  71.97521047  64.50048066  67.8786974   73.02555672  76.35265098\n",
            "  72.78864295  73.30016346  72.59866707  72.72958828  70.67581872\n",
            "  74.33463502  72.73592202  71.7578714   71.64973015  77.12045181\n",
            "  74.17271616  78.84315719  78.29524855  76.80765637  76.43880459\n",
            "  83.08402383  80.89330088  77.77075423  79.42676366  88.94975136\n",
            "  85.27730075  90.44019832  82.04914658  85.37845216  88.57902433\n",
            "  91.43558536  93.07056496  90.87492941  85.98858802  87.91374543\n",
            "  88.14940065  98.36315151  97.03109493  97.23097791  97.92871911\n",
            "  90.47695517  96.31911654 102.80963525  92.73870165  97.82776161\n",
            " 102.33063577  98.9179344  105.27782941  99.26598813 101.44405348]\n"
          ]
        }
      ]
    },
    {
      "cell_type": "markdown",
      "source": [
        "Despues, entrenamos el modelo de LinearRegression. Para esto, hay que convertir el array x (de tiempo) de una dimension para que tiene 2 dimensiones"
      ],
      "metadata": {
        "id": "K6ki3_pGd_wG"
      }
    },
    {
      "cell_type": "code",
      "source": [
        "from sklearn.linear_model import LinearRegression\n",
        "\n",
        "def plot_linear_regression(x, y):\n",
        "  # adaptar x para entrada de LinearRegression (de 1 a 2 dimensiones)\n",
        "  x = x.reshape(-1, 1)\n",
        "\n",
        "  # entrenar el model\n",
        "  model = LinearRegression()\n",
        "  model.fit(x, y)\n",
        "\n",
        "  # coeficiente e intercepto (describen como va a estar la linea de regression si lo graficamos)\n",
        "  print(\"Coeficiente:\")\n",
        "  print(model.coef_)\n",
        "  print(\"Intercepto:\")\n",
        "  print(model.intercept_)\n",
        "\n",
        "  # basado en los datos x (tiempo), hacemos predicciones de y (FC)\n",
        "  y_pred = model.predict(x)\n",
        "  print(\"Predicciones:\")\n",
        "  print(y_pred)\n",
        "\n",
        "  # utilizamos matplotlib para graficar resultados\n",
        "  import matplotlib.pyplot as plt\n",
        "  plt.scatter(x, y, label=\"Datos\")\n",
        "  plt.plot(x, y_pred, color='red', label=\"Modelo\")\n",
        "  plt.legend()\n",
        "  plt.show()"
      ],
      "metadata": {
        "id": "93zORfNeVZEj"
      },
      "execution_count": 4,
      "outputs": []
    },
    {
      "cell_type": "code",
      "source": [
        "plot_linear_regression(x, y)"
      ],
      "metadata": {
        "colab": {
          "base_uri": "https://localhost:8080/",
          "height": 734
        },
        "id": "pdPJqPaBZwY1",
        "outputId": "a96cff91-506a-4deb-da99-f91b475487f9"
      },
      "execution_count": 5,
      "outputs": [
        {
          "output_type": "stream",
          "name": "stdout",
          "text": [
            "Coeficiente:\n",
            "[0.71076138]\n",
            "Intercepto:\n",
            "59.352303021316814\n",
            "Predicciones:\n",
            "[ 60.0630644   60.77382578  61.48458716  62.19534854  62.90610992\n",
            "  63.6168713   64.32763268  65.03839406  65.74915544  66.45991682\n",
            "  67.1706782   67.88143958  68.59220096  69.30296234  70.01372371\n",
            "  70.72448509  71.43524647  72.14600785  72.85676923  73.56753061\n",
            "  74.27829199  74.98905337  75.69981475  76.41057613  77.12133751\n",
            "  77.83209889  78.54286027  79.25362165  79.96438303  80.67514441\n",
            "  81.38590579  82.09666717  82.80742855  83.51818993  84.22895131\n",
            "  84.93971269  85.65047407  86.36123545  87.07199682  87.7827582\n",
            "  88.49351958  89.20428096  89.91504234  90.62580372  91.3365651\n",
            "  92.04732648  92.75808786  93.46884924  94.17961062  94.890372\n",
            "  95.60113338  96.31189476  97.02265614  97.73341752  98.4441789\n",
            "  99.15494028  99.86570166 100.57646304 101.28722442 101.9979858 ]\n"
          ]
        },
        {
          "output_type": "display_data",
          "data": {
            "text/plain": [
              "<Figure size 640x480 with 1 Axes>"
            ],
            "image/png": "[encoded data removed]"
          },
          "metadata": {}
        }
      ]
    }
  ]
}